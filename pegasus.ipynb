{
 "cells": [
  {
   "cell_type": "code",
   "execution_count": 1,
   "metadata": {},
   "outputs": [
    {
     "name": "stderr",
     "output_type": "stream",
     "text": [
      "c:\\Users\\mouha\\AppData\\Local\\Programs\\Python\\Python310\\lib\\site-packages\\tqdm\\auto.py:21: TqdmWarning: IProgress not found. Please update jupyter and ipywidgets. See https://ipywidgets.readthedocs.io/en/stable/user_install.html\n",
      "  from .autonotebook import tqdm as notebook_tqdm\n"
     ]
    },
    {
     "name": "stdout",
     "output_type": "stream",
     "text": [
      "WARNING:tensorflow:From c:\\Users\\mouha\\AppData\\Local\\Programs\\Python\\Python310\\lib\\site-packages\\keras\\src\\losses.py:2976: The name tf.losses.sparse_softmax_cross_entropy is deprecated. Please use tf.compat.v1.losses.sparse_softmax_cross_entropy instead.\n",
      "\n"
     ]
    },
    {
     "name": "stderr",
     "output_type": "stream",
     "text": [
      "Downloading: 100%|██████████| 87.0/87.0 [00:00<00:00, 94.6kB/s]\n",
      "Downloading: 100%|██████████| 1.82M/1.82M [00:00<00:00, 7.86MB/s]\n",
      "Downloading: 100%|██████████| 65.0/65.0 [00:00<00:00, 32.5kB/s]\n",
      "Downloading: 100%|██████████| 3.36M/3.36M [00:00<00:00, 7.15MB/s]\n",
      "Downloading: 100%|██████████| 1.36k/1.36k [00:00<00:00, 696kB/s]\n",
      "Downloading: 100%|██████████| 2.12G/2.12G [29:16<00:00, 1.30MB/s]\n",
      "c:\\Users\\mouha\\AppData\\Local\\Programs\\Python\\Python310\\lib\\site-packages\\transformers\\optimization.py:306: FutureWarning: This implementation of AdamW is deprecated and will be removed in a future version. Use thePyTorch implementation torch.optim.AdamW instead, or set `no_deprecation_warning=True` to disable this warning\n",
      "  warnings.warn(\n",
      "***** Running training *****\n",
      "  Num examples = 21401\n",
      "  Num Epochs = 3\n",
      "  Instantaneous batch size per device = 4\n",
      "  Total train batch size (w. parallel, distributed & accumulation) = 4\n",
      "  Gradient Accumulation steps = 1\n",
      "  Total optimization steps = 16053\n",
      "  1%|          | 100/16053 [03:08<8:13:49,  1.86s/it]Saving model checkpoint to ./pegasus_trained_model\\checkpoint-100\n",
      "Configuration saved in ./pegasus_trained_model\\checkpoint-100\\config.json\n",
      "Model weights saved in ./pegasus_trained_model\\checkpoint-100\\pytorch_model.bin\n",
      "  1%|          | 200/16053 [06:20<8:10:29,  1.86s/it] Saving model checkpoint to ./pegasus_trained_model\\checkpoint-200\n",
      "Configuration saved in ./pegasus_trained_model\\checkpoint-200\\config.json\n",
      "Model weights saved in ./pegasus_trained_model\\checkpoint-200\\pytorch_model.bin\n",
      "  2%|▏         | 300/16053 [09:32<8:06:12,  1.85s/it] Saving model checkpoint to ./pegasus_trained_model\\checkpoint-300\n",
      "Configuration saved in ./pegasus_trained_model\\checkpoint-300\\config.json\n",
      "Model weights saved in ./pegasus_trained_model\\checkpoint-300\\pytorch_model.bin\n",
      "  2%|▏         | 400/16053 [12:44<8:06:50,  1.87s/it] Saving model checkpoint to ./pegasus_trained_model\\checkpoint-400\n",
      "Configuration saved in ./pegasus_trained_model\\checkpoint-400\\config.json\n",
      "Model weights saved in ./pegasus_trained_model\\checkpoint-400\\pytorch_model.bin\n",
      "  3%|▎         | 500/16053 [15:56<8:00:14,  1.85s/it] Saving model checkpoint to ./pegasus_trained_model\\checkpoint-500\n",
      "Configuration saved in ./pegasus_trained_model\\checkpoint-500\\config.json\n"
     ]
    },
    {
     "name": "stdout",
     "output_type": "stream",
     "text": [
      "{'loss': 3.9945, 'learning_rate': 4.844265869307918e-05, 'epoch': 0.09}\n"
     ]
    },
    {
     "name": "stderr",
     "output_type": "stream",
     "text": [
      "Model weights saved in ./pegasus_trained_model\\checkpoint-500\\pytorch_model.bin\n",
      "  4%|▎         | 600/16053 [19:08<7:58:09,  1.86s/it] Saving model checkpoint to ./pegasus_trained_model\\checkpoint-600\n",
      "Configuration saved in ./pegasus_trained_model\\checkpoint-600\\config.json\n",
      "Model weights saved in ./pegasus_trained_model\\checkpoint-600\\pytorch_model.bin\n",
      "  4%|▍         | 700/16053 [22:20<7:57:23,  1.87s/it] Saving model checkpoint to ./pegasus_trained_model\\checkpoint-700\n",
      "Configuration saved in ./pegasus_trained_model\\checkpoint-700\\config.json\n",
      "Model weights saved in ./pegasus_trained_model\\checkpoint-700\\pytorch_model.bin\n",
      "  5%|▍         | 800/16053 [25:33<7:53:08,  1.86s/it] Saving model checkpoint to ./pegasus_trained_model\\checkpoint-800\n",
      "Configuration saved in ./pegasus_trained_model\\checkpoint-800\\config.json\n",
      "Model weights saved in ./pegasus_trained_model\\checkpoint-800\\pytorch_model.bin\n",
      "  6%|▌         | 900/16053 [28:48<7:53:31,  1.87s/it] Saving model checkpoint to ./pegasus_trained_model\\checkpoint-900\n",
      "Configuration saved in ./pegasus_trained_model\\checkpoint-900\\config.json\n",
      "Model weights saved in ./pegasus_trained_model\\checkpoint-900\\pytorch_model.bin\n",
      "  6%|▌         | 1000/16053 [32:00<7:48:14,  1.87s/it]Saving model checkpoint to ./pegasus_trained_model\\checkpoint-1000\n",
      "Configuration saved in ./pegasus_trained_model\\checkpoint-1000\\config.json\n"
     ]
    },
    {
     "name": "stdout",
     "output_type": "stream",
     "text": [
      "{'loss': 1.8334, 'learning_rate': 4.688531738615835e-05, 'epoch': 0.19}\n"
     ]
    },
    {
     "name": "stderr",
     "output_type": "stream",
     "text": [
      "Model weights saved in ./pegasus_trained_model\\checkpoint-1000\\pytorch_model.bin\n",
      "  7%|▋         | 1100/16053 [35:12<7:44:42,  1.86s/it] Saving model checkpoint to ./pegasus_trained_model\\checkpoint-1100\n",
      "Configuration saved in ./pegasus_trained_model\\checkpoint-1100\\config.json\n",
      "Model weights saved in ./pegasus_trained_model\\checkpoint-1100\\pytorch_model.bin\n",
      "  7%|▋         | 1200/16053 [38:24<7:42:53,  1.87s/it] Saving model checkpoint to ./pegasus_trained_model\\checkpoint-1200\n",
      "Configuration saved in ./pegasus_trained_model\\checkpoint-1200\\config.json\n",
      "Model weights saved in ./pegasus_trained_model\\checkpoint-1200\\pytorch_model.bin\n",
      "  8%|▊         | 1300/16053 [41:46<8:31:34,  2.08s/it] Saving model checkpoint to ./pegasus_trained_model\\checkpoint-1300\n",
      "Configuration saved in ./pegasus_trained_model\\checkpoint-1300\\config.json\n",
      "Model weights saved in ./pegasus_trained_model\\checkpoint-1300\\pytorch_model.bin\n",
      "  9%|▊         | 1400/16053 [45:18<8:17:06,  2.04s/it] Saving model checkpoint to ./pegasus_trained_model\\checkpoint-1400\n",
      "Configuration saved in ./pegasus_trained_model\\checkpoint-1400\\config.json\n",
      "Model weights saved in ./pegasus_trained_model\\checkpoint-1400\\pytorch_model.bin\n",
      "  9%|▉         | 1500/16053 [48:51<8:15:35,  2.04s/it] Saving model checkpoint to ./pegasus_trained_model\\checkpoint-1500\n",
      "Configuration saved in ./pegasus_trained_model\\checkpoint-1500\\config.json\n"
     ]
    },
    {
     "name": "stdout",
     "output_type": "stream",
     "text": [
      "{'loss': 1.7429, 'learning_rate': 4.5327976079237525e-05, 'epoch': 0.28}\n"
     ]
    },
    {
     "name": "stderr",
     "output_type": "stream",
     "text": [
      "Model weights saved in ./pegasus_trained_model\\checkpoint-1500\\pytorch_model.bin\n",
      " 10%|▉         | 1600/16053 [52:21<8:19:09,  2.07s/it] Saving model checkpoint to ./pegasus_trained_model\\checkpoint-1600\n",
      "Configuration saved in ./pegasus_trained_model\\checkpoint-1600\\config.json\n",
      "Model weights saved in ./pegasus_trained_model\\checkpoint-1600\\pytorch_model.bin\n",
      " 11%|█         | 1700/16053 [55:50<7:54:37,  1.98s/it] Saving model checkpoint to ./pegasus_trained_model\\checkpoint-1700\n",
      "Configuration saved in ./pegasus_trained_model\\checkpoint-1700\\config.json\n",
      "Model weights saved in ./pegasus_trained_model\\checkpoint-1700\\pytorch_model.bin\n",
      " 11%|█         | 1800/16053 [59:09<7:26:00,  1.88s/it] Saving model checkpoint to ./pegasus_trained_model\\checkpoint-1800\n",
      "Configuration saved in ./pegasus_trained_model\\checkpoint-1800\\config.json\n",
      "Model weights saved in ./pegasus_trained_model\\checkpoint-1800\\pytorch_model.bin\n",
      " 12%|█▏        | 1900/16053 [1:02:20<7:18:40,  1.86s/it]Saving model checkpoint to ./pegasus_trained_model\\checkpoint-1900\n",
      "Configuration saved in ./pegasus_trained_model\\checkpoint-1900\\config.json\n",
      "Model weights saved in ./pegasus_trained_model\\checkpoint-1900\\pytorch_model.bin\n",
      " 12%|█▏        | 2000/16053 [1:05:31<7:14:27,  1.85s/it] Saving model checkpoint to ./pegasus_trained_model\\checkpoint-2000\n",
      "Configuration saved in ./pegasus_trained_model\\checkpoint-2000\\config.json\n"
     ]
    },
    {
     "name": "stdout",
     "output_type": "stream",
     "text": [
      "{'loss': 1.6752, 'learning_rate': 4.37706347723167e-05, 'epoch': 0.37}\n"
     ]
    },
    {
     "name": "stderr",
     "output_type": "stream",
     "text": [
      "Model weights saved in ./pegasus_trained_model\\checkpoint-2000\\pytorch_model.bin\n",
      " 13%|█▎        | 2100/16053 [1:08:41<7:08:33,  1.84s/it] Saving model checkpoint to ./pegasus_trained_model\\checkpoint-2100\n",
      "Configuration saved in ./pegasus_trained_model\\checkpoint-2100\\config.json\n",
      "Model weights saved in ./pegasus_trained_model\\checkpoint-2100\\pytorch_model.bin\n",
      " 14%|█▎        | 2200/16053 [1:12:04<7:30:41,  1.95s/it] Saving model checkpoint to ./pegasus_trained_model\\checkpoint-2200\n",
      "Configuration saved in ./pegasus_trained_model\\checkpoint-2200\\config.json\n",
      "Model weights saved in ./pegasus_trained_model\\checkpoint-2200\\pytorch_model.bin\n",
      " 14%|█▍        | 2300/16053 [1:15:26<7:27:12,  1.95s/it] Saving model checkpoint to ./pegasus_trained_model\\checkpoint-2300\n",
      "Configuration saved in ./pegasus_trained_model\\checkpoint-2300\\config.json\n",
      "Model weights saved in ./pegasus_trained_model\\checkpoint-2300\\pytorch_model.bin\n",
      " 15%|█▍        | 2400/16053 [1:18:50<7:32:56,  1.99s/it] Saving model checkpoint to ./pegasus_trained_model\\checkpoint-2400\n",
      "Configuration saved in ./pegasus_trained_model\\checkpoint-2400\\config.json\n",
      "Model weights saved in ./pegasus_trained_model\\checkpoint-2400\\pytorch_model.bin\n",
      " 16%|█▌        | 2500/16053 [1:22:16<7:29:28,  1.99s/it] Saving model checkpoint to ./pegasus_trained_model\\checkpoint-2500\n",
      "Configuration saved in ./pegasus_trained_model\\checkpoint-2500\\config.json\n"
     ]
    },
    {
     "name": "stdout",
     "output_type": "stream",
     "text": [
      "{'loss': 1.6653, 'learning_rate': 4.2213293465395875e-05, 'epoch': 0.47}\n"
     ]
    },
    {
     "name": "stderr",
     "output_type": "stream",
     "text": [
      "Model weights saved in ./pegasus_trained_model\\checkpoint-2500\\pytorch_model.bin\n",
      " 16%|█▌        | 2600/16053 [1:25:41<7:27:24,  2.00s/it] Saving model checkpoint to ./pegasus_trained_model\\checkpoint-2600\n",
      "Configuration saved in ./pegasus_trained_model\\checkpoint-2600\\config.json\n",
      "Model weights saved in ./pegasus_trained_model\\checkpoint-2600\\pytorch_model.bin\n",
      " 17%|█▋        | 2700/16053 [1:29:06<7:23:37,  1.99s/it] Saving model checkpoint to ./pegasus_trained_model\\checkpoint-2700\n",
      "Configuration saved in ./pegasus_trained_model\\checkpoint-2700\\config.json\n",
      "Model weights saved in ./pegasus_trained_model\\checkpoint-2700\\pytorch_model.bin\n",
      " 17%|█▋        | 2800/16053 [1:32:32<7:04:59,  1.92s/it] Saving model checkpoint to ./pegasus_trained_model\\checkpoint-2800\n",
      "Configuration saved in ./pegasus_trained_model\\checkpoint-2800\\config.json\n",
      "Model weights saved in ./pegasus_trained_model\\checkpoint-2800\\pytorch_model.bin\n",
      " 18%|█▊        | 2900/16053 [1:36:07<7:40:36,  2.10s/it] Saving model checkpoint to ./pegasus_trained_model\\checkpoint-2900\n",
      "Configuration saved in ./pegasus_trained_model\\checkpoint-2900\\config.json\n",
      "Model weights saved in ./pegasus_trained_model\\checkpoint-2900\\pytorch_model.bin\n",
      " 19%|█▊        | 3000/16053 [1:39:48<7:33:29,  2.08s/it] Saving model checkpoint to ./pegasus_trained_model\\checkpoint-3000\n",
      "Configuration saved in ./pegasus_trained_model\\checkpoint-3000\\config.json\n"
     ]
    },
    {
     "name": "stdout",
     "output_type": "stream",
     "text": [
      "{'loss': 1.6031, 'learning_rate': 4.0655952158475054e-05, 'epoch': 0.56}\n"
     ]
    },
    {
     "name": "stderr",
     "output_type": "stream",
     "text": [
      "Model weights saved in ./pegasus_trained_model\\checkpoint-3000\\pytorch_model.bin\n",
      " 19%|█▉        | 3100/16053 [1:43:32<7:36:14,  2.11s/it] Saving model checkpoint to ./pegasus_trained_model\\checkpoint-3100\n",
      "Configuration saved in ./pegasus_trained_model\\checkpoint-3100\\config.json\n",
      "Model weights saved in ./pegasus_trained_model\\checkpoint-3100\\pytorch_model.bin\n",
      " 20%|█▉        | 3200/16053 [1:47:14<7:29:43,  2.10s/it] Saving model checkpoint to ./pegasus_trained_model\\checkpoint-3200\n",
      "Configuration saved in ./pegasus_trained_model\\checkpoint-3200\\config.json\n",
      "Model weights saved in ./pegasus_trained_model\\checkpoint-3200\\pytorch_model.bin\n",
      " 21%|██        | 3300/16053 [1:50:55<7:26:28,  2.10s/it] Saving model checkpoint to ./pegasus_trained_model\\checkpoint-3300\n",
      "Configuration saved in ./pegasus_trained_model\\checkpoint-3300\\config.json\n",
      "Model weights saved in ./pegasus_trained_model\\checkpoint-3300\\pytorch_model.bin\n",
      " 21%|██        | 3400/16053 [1:54:38<7:19:46,  2.09s/it] Saving model checkpoint to ./pegasus_trained_model\\checkpoint-3400\n",
      "Configuration saved in ./pegasus_trained_model\\checkpoint-3400\\config.json\n",
      "Model weights saved in ./pegasus_trained_model\\checkpoint-3400\\pytorch_model.bin\n",
      " 22%|██▏       | 3500/16053 [1:58:20<7:22:16,  2.11s/it] Saving model checkpoint to ./pegasus_trained_model\\checkpoint-3500\n",
      "Configuration saved in ./pegasus_trained_model\\checkpoint-3500\\config.json\n"
     ]
    },
    {
     "name": "stdout",
     "output_type": "stream",
     "text": [
      "{'loss': 1.5823, 'learning_rate': 3.909861085155423e-05, 'epoch': 0.65}\n"
     ]
    },
    {
     "name": "stderr",
     "output_type": "stream",
     "text": [
      "Model weights saved in ./pegasus_trained_model\\checkpoint-3500\\pytorch_model.bin\n",
      " 22%|██▏       | 3600/16053 [2:02:04<7:12:44,  2.08s/it] Saving model checkpoint to ./pegasus_trained_model\\checkpoint-3600\n",
      "Configuration saved in ./pegasus_trained_model\\checkpoint-3600\\config.json\n",
      "Model weights saved in ./pegasus_trained_model\\checkpoint-3600\\pytorch_model.bin\n",
      " 23%|██▎       | 3700/16053 [2:05:38<6:49:12,  1.99s/it] Saving model checkpoint to ./pegasus_trained_model\\checkpoint-3700\n",
      "Configuration saved in ./pegasus_trained_model\\checkpoint-3700\\config.json\n",
      "Model weights saved in ./pegasus_trained_model\\checkpoint-3700\\pytorch_model.bin\n",
      " 24%|██▎       | 3800/16053 [2:09:04<6:57:02,  2.04s/it] Saving model checkpoint to ./pegasus_trained_model\\checkpoint-3800\n",
      "Configuration saved in ./pegasus_trained_model\\checkpoint-3800\\config.json\n",
      "Model weights saved in ./pegasus_trained_model\\checkpoint-3800\\pytorch_model.bin\n",
      " 24%|██▍       | 3900/16053 [2:12:30<6:43:58,  1.99s/it] Saving model checkpoint to ./pegasus_trained_model\\checkpoint-3900\n",
      "Configuration saved in ./pegasus_trained_model\\checkpoint-3900\\config.json\n",
      "Model weights saved in ./pegasus_trained_model\\checkpoint-3900\\pytorch_model.bin\n",
      " 25%|██▍       | 4000/16053 [2:15:55<6:39:28,  1.99s/it] Saving model checkpoint to ./pegasus_trained_model\\checkpoint-4000\n",
      "Configuration saved in ./pegasus_trained_model\\checkpoint-4000\\config.json\n"
     ]
    },
    {
     "name": "stdout",
     "output_type": "stream",
     "text": [
      "{'loss': 1.5779, 'learning_rate': 3.7541269544633404e-05, 'epoch': 0.75}\n"
     ]
    },
    {
     "name": "stderr",
     "output_type": "stream",
     "text": [
      "Model weights saved in ./pegasus_trained_model\\checkpoint-4000\\pytorch_model.bin\n",
      " 26%|██▌       | 4100/16053 [2:19:24<7:00:28,  2.11s/it] Saving model checkpoint to ./pegasus_trained_model\\checkpoint-4100\n",
      "Configuration saved in ./pegasus_trained_model\\checkpoint-4100\\config.json\n",
      "Model weights saved in ./pegasus_trained_model\\checkpoint-4100\\pytorch_model.bin\n",
      " 26%|██▌       | 4200/16053 [2:23:04<6:55:42,  2.10s/it] Saving model checkpoint to ./pegasus_trained_model\\checkpoint-4200\n",
      "Configuration saved in ./pegasus_trained_model\\checkpoint-4200\\config.json\n",
      "Model weights saved in ./pegasus_trained_model\\checkpoint-4200\\pytorch_model.bin\n",
      " 27%|██▋       | 4300/16053 [2:26:46<6:50:57,  2.10s/it] Saving model checkpoint to ./pegasus_trained_model\\checkpoint-4300\n",
      "Configuration saved in ./pegasus_trained_model\\checkpoint-4300\\config.json\n",
      "Model weights saved in ./pegasus_trained_model\\checkpoint-4300\\pytorch_model.bin\n",
      " 27%|██▋       | 4400/16053 [2:30:28<6:48:20,  2.10s/it] Saving model checkpoint to ./pegasus_trained_model\\checkpoint-4400\n",
      "Configuration saved in ./pegasus_trained_model\\checkpoint-4400\\config.json\n",
      "Model weights saved in ./pegasus_trained_model\\checkpoint-4400\\pytorch_model.bin\n",
      " 28%|██▊       | 4500/16053 [2:34:09<6:44:19,  2.10s/it] Saving model checkpoint to ./pegasus_trained_model\\checkpoint-4500\n",
      "Configuration saved in ./pegasus_trained_model\\checkpoint-4500\\config.json\n"
     ]
    },
    {
     "name": "stdout",
     "output_type": "stream",
     "text": [
      "{'loss': 1.5465, 'learning_rate': 3.5983928237712576e-05, 'epoch': 0.84}\n"
     ]
    },
    {
     "name": "stderr",
     "output_type": "stream",
     "text": [
      "Model weights saved in ./pegasus_trained_model\\checkpoint-4500\\pytorch_model.bin\n",
      " 29%|██▊       | 4600/16053 [2:37:51<6:42:30,  2.11s/it] Saving model checkpoint to ./pegasus_trained_model\\checkpoint-4600\n",
      "Configuration saved in ./pegasus_trained_model\\checkpoint-4600\\config.json\n",
      "Model weights saved in ./pegasus_trained_model\\checkpoint-4600\\pytorch_model.bin\n",
      " 29%|██▉       | 4700/16053 [2:41:33<6:38:08,  2.10s/it] Saving model checkpoint to ./pegasus_trained_model\\checkpoint-4700\n",
      "Configuration saved in ./pegasus_trained_model\\checkpoint-4700\\config.json\n",
      "Model weights saved in ./pegasus_trained_model\\checkpoint-4700\\pytorch_model.bin\n",
      " 30%|██▉       | 4800/16053 [2:45:15<6:32:36,  2.09s/it] Saving model checkpoint to ./pegasus_trained_model\\checkpoint-4800\n",
      "Configuration saved in ./pegasus_trained_model\\checkpoint-4800\\config.json\n",
      "Model weights saved in ./pegasus_trained_model\\checkpoint-4800\\pytorch_model.bin\n",
      " 31%|███       | 4900/16053 [2:48:56<6:31:01,  2.10s/it] Saving model checkpoint to ./pegasus_trained_model\\checkpoint-4900\n",
      "Configuration saved in ./pegasus_trained_model\\checkpoint-4900\\config.json\n",
      "Model weights saved in ./pegasus_trained_model\\checkpoint-4900\\pytorch_model.bin\n",
      " 31%|███       | 5000/16053 [2:52:37<6:26:31,  2.10s/it] Saving model checkpoint to ./pegasus_trained_model\\checkpoint-5000\n",
      "Configuration saved in ./pegasus_trained_model\\checkpoint-5000\\config.json\n"
     ]
    },
    {
     "name": "stdout",
     "output_type": "stream",
     "text": [
      "{'loss': 1.5528, 'learning_rate': 3.4426586930791755e-05, 'epoch': 0.93}\n"
     ]
    },
    {
     "name": "stderr",
     "output_type": "stream",
     "text": [
      "Model weights saved in ./pegasus_trained_model\\checkpoint-5000\\pytorch_model.bin\n",
      " 32%|███▏      | 5100/16053 [2:56:19<6:25:57,  2.11s/it] Saving model checkpoint to ./pegasus_trained_model\\checkpoint-5100\n",
      "Configuration saved in ./pegasus_trained_model\\checkpoint-5100\\config.json\n",
      "Model weights saved in ./pegasus_trained_model\\checkpoint-5100\\pytorch_model.bin\n",
      " 32%|███▏      | 5200/16053 [3:00:00<6:19:06,  2.10s/it] Saving model checkpoint to ./pegasus_trained_model\\checkpoint-5200\n",
      "Configuration saved in ./pegasus_trained_model\\checkpoint-5200\\config.json\n",
      "Model weights saved in ./pegasus_trained_model\\checkpoint-5200\\pytorch_model.bin\n",
      " 33%|███▎      | 5300/16053 [3:03:43<6:17:28,  2.11s/it] Saving model checkpoint to ./pegasus_trained_model\\checkpoint-5300\n",
      "Configuration saved in ./pegasus_trained_model\\checkpoint-5300\\config.json\n",
      "Model weights saved in ./pegasus_trained_model\\checkpoint-5300\\pytorch_model.bin\n",
      " 34%|███▎      | 5400/16053 [3:07:26<6:12:15,  2.10s/it] Saving model checkpoint to ./pegasus_trained_model\\checkpoint-5400\n",
      "Configuration saved in ./pegasus_trained_model\\checkpoint-5400\\config.json\n",
      "Model weights saved in ./pegasus_trained_model\\checkpoint-5400\\pytorch_model.bin\n",
      " 34%|███▍      | 5500/16053 [3:11:08<6:08:13,  2.09s/it] Saving model checkpoint to ./pegasus_trained_model\\checkpoint-5500\n",
      "Configuration saved in ./pegasus_trained_model\\checkpoint-5500\\config.json\n"
     ]
    },
    {
     "name": "stdout",
     "output_type": "stream",
     "text": [
      "{'loss': 1.5249, 'learning_rate': 3.286924562387093e-05, 'epoch': 1.03}\n"
     ]
    },
    {
     "name": "stderr",
     "output_type": "stream",
     "text": [
      "Model weights saved in ./pegasus_trained_model\\checkpoint-5500\\pytorch_model.bin\n",
      " 35%|███▍      | 5600/16053 [3:14:49<6:06:39,  2.10s/it] Saving model checkpoint to ./pegasus_trained_model\\checkpoint-5600\n",
      "Configuration saved in ./pegasus_trained_model\\checkpoint-5600\\config.json\n",
      "Model weights saved in ./pegasus_trained_model\\checkpoint-5600\\pytorch_model.bin\n",
      " 36%|███▌      | 5700/16053 [3:18:30<5:59:13,  2.08s/it] Saving model checkpoint to ./pegasus_trained_model\\checkpoint-5700\n",
      "Configuration saved in ./pegasus_trained_model\\checkpoint-5700\\config.json\n",
      "Model weights saved in ./pegasus_trained_model\\checkpoint-5700\\pytorch_model.bin\n",
      " 36%|███▌      | 5800/16053 [3:22:13<6:02:25,  2.12s/it] Saving model checkpoint to ./pegasus_trained_model\\checkpoint-5800\n",
      "Configuration saved in ./pegasus_trained_model\\checkpoint-5800\\config.json\n",
      "Model weights saved in ./pegasus_trained_model\\checkpoint-5800\\pytorch_model.bin\n",
      " 37%|███▋      | 5900/16053 [3:25:57<5:57:27,  2.11s/it] Saving model checkpoint to ./pegasus_trained_model\\checkpoint-5900\n",
      "Configuration saved in ./pegasus_trained_model\\checkpoint-5900\\config.json\n",
      "Model weights saved in ./pegasus_trained_model\\checkpoint-5900\\pytorch_model.bin\n",
      " 37%|███▋      | 6000/16053 [3:29:41<5:54:14,  2.11s/it] Saving model checkpoint to ./pegasus_trained_model\\checkpoint-6000\n",
      "Configuration saved in ./pegasus_trained_model\\checkpoint-6000\\config.json\n"
     ]
    },
    {
     "name": "stdout",
     "output_type": "stream",
     "text": [
      "{'loss': 1.4855, 'learning_rate': 3.1311904316950105e-05, 'epoch': 1.12}\n"
     ]
    },
    {
     "name": "stderr",
     "output_type": "stream",
     "text": [
      "Model weights saved in ./pegasus_trained_model\\checkpoint-6000\\pytorch_model.bin\n",
      " 38%|███▊      | 6100/16053 [3:33:26<5:50:50,  2.12s/it] Saving model checkpoint to ./pegasus_trained_model\\checkpoint-6100\n",
      "Configuration saved in ./pegasus_trained_model\\checkpoint-6100\\config.json\n",
      "Model weights saved in ./pegasus_trained_model\\checkpoint-6100\\pytorch_model.bin\n",
      " 39%|███▊      | 6200/16053 [3:37:10<5:54:15,  2.16s/it] Saving model checkpoint to ./pegasus_trained_model\\checkpoint-6200\n",
      "Configuration saved in ./pegasus_trained_model\\checkpoint-6200\\config.json\n",
      "Model weights saved in ./pegasus_trained_model\\checkpoint-6200\\pytorch_model.bin\n",
      " 39%|███▉      | 6300/16053 [3:40:58<5:51:40,  2.16s/it] Saving model checkpoint to ./pegasus_trained_model\\checkpoint-6300\n",
      "Configuration saved in ./pegasus_trained_model\\checkpoint-6300\\config.json\n",
      "Model weights saved in ./pegasus_trained_model\\checkpoint-6300\\pytorch_model.bin\n",
      " 40%|███▉      | 6400/16053 [3:44:44<5:45:45,  2.15s/it] Saving model checkpoint to ./pegasus_trained_model\\checkpoint-6400\n",
      "Configuration saved in ./pegasus_trained_model\\checkpoint-6400\\config.json\n",
      "Model weights saved in ./pegasus_trained_model\\checkpoint-6400\\pytorch_model.bin\n",
      " 40%|████      | 6500/16053 [3:48:31<5:43:00,  2.15s/it] Saving model checkpoint to ./pegasus_trained_model\\checkpoint-6500\n",
      "Configuration saved in ./pegasus_trained_model\\checkpoint-6500\\config.json\n"
     ]
    },
    {
     "name": "stdout",
     "output_type": "stream",
     "text": [
      "{'loss': 1.4751, 'learning_rate': 2.975456301002928e-05, 'epoch': 1.21}\n"
     ]
    },
    {
     "name": "stderr",
     "output_type": "stream",
     "text": [
      "Model weights saved in ./pegasus_trained_model\\checkpoint-6500\\pytorch_model.bin\n",
      " 41%|████      | 6600/16053 [3:52:19<5:37:21,  2.14s/it] Saving model checkpoint to ./pegasus_trained_model\\checkpoint-6600\n",
      "Configuration saved in ./pegasus_trained_model\\checkpoint-6600\\config.json\n",
      "Model weights saved in ./pegasus_trained_model\\checkpoint-6600\\pytorch_model.bin\n",
      " 42%|████▏     | 6700/16053 [3:55:38<4:44:32,  1.83s/it] Saving model checkpoint to ./pegasus_trained_model\\checkpoint-6700\n",
      "Configuration saved in ./pegasus_trained_model\\checkpoint-6700\\config.json\n",
      "Model weights saved in ./pegasus_trained_model\\checkpoint-6700\\pytorch_model.bin\n",
      " 42%|████▏     | 6800/16053 [3:58:49<4:47:23,  1.86s/it]Saving model checkpoint to ./pegasus_trained_model\\checkpoint-6800\n",
      "Configuration saved in ./pegasus_trained_model\\checkpoint-6800\\config.json\n",
      "Model weights saved in ./pegasus_trained_model\\checkpoint-6800\\pytorch_model.bin\n",
      " 43%|████▎     | 6900/16053 [6:03:22<4:44:11,  1.86s/it]     Saving model checkpoint to ./pegasus_trained_model\\checkpoint-6900\n",
      "Configuration saved in ./pegasus_trained_model\\checkpoint-6900\\config.json\n",
      "Model weights saved in ./pegasus_trained_model\\checkpoint-6900\\pytorch_model.bin\n",
      " 44%|████▎     | 7000/16053 [6:06:46<5:02:04,  2.00s/it]Saving model checkpoint to ./pegasus_trained_model\\checkpoint-7000\n",
      "Configuration saved in ./pegasus_trained_model\\checkpoint-7000\\config.json\n"
     ]
    },
    {
     "name": "stdout",
     "output_type": "stream",
     "text": [
      "{'loss': 1.4699, 'learning_rate': 2.8197221703108455e-05, 'epoch': 1.31}\n"
     ]
    },
    {
     "name": "stderr",
     "output_type": "stream",
     "text": [
      "Model weights saved in ./pegasus_trained_model\\checkpoint-7000\\pytorch_model.bin\n",
      " 44%|████▍     | 7100/16053 [6:10:12<4:59:47,  2.01s/it]Saving model checkpoint to ./pegasus_trained_model\\checkpoint-7100\n",
      "Configuration saved in ./pegasus_trained_model\\checkpoint-7100\\config.json\n",
      "Model weights saved in ./pegasus_trained_model\\checkpoint-7100\\pytorch_model.bin\n",
      " 45%|████▍     | 7200/16053 [6:13:38<4:56:33,  2.01s/it]Saving model checkpoint to ./pegasus_trained_model\\checkpoint-7200\n",
      "Configuration saved in ./pegasus_trained_model\\checkpoint-7200\\config.json\n",
      "Model weights saved in ./pegasus_trained_model\\checkpoint-7200\\pytorch_model.bin\n",
      " 45%|████▌     | 7300/16053 [6:17:04<4:52:46,  2.01s/it]Saving model checkpoint to ./pegasus_trained_model\\checkpoint-7300\n",
      "Configuration saved in ./pegasus_trained_model\\checkpoint-7300\\config.json\n",
      "Model weights saved in ./pegasus_trained_model\\checkpoint-7300\\pytorch_model.bin\n",
      " 46%|████▌     | 7400/16053 [6:20:29<4:50:07,  2.01s/it]Saving model checkpoint to ./pegasus_trained_model\\checkpoint-7400\n",
      "Configuration saved in ./pegasus_trained_model\\checkpoint-7400\\config.json\n",
      "Model weights saved in ./pegasus_trained_model\\checkpoint-7400\\pytorch_model.bin\n",
      " 47%|████▋     | 7500/16053 [6:23:55<4:45:45,  2.00s/it]Saving model checkpoint to ./pegasus_trained_model\\checkpoint-7500\n",
      "Configuration saved in ./pegasus_trained_model\\checkpoint-7500\\config.json\n"
     ]
    },
    {
     "name": "stdout",
     "output_type": "stream",
     "text": [
      "{'loss': 1.4441, 'learning_rate': 2.6639880396187627e-05, 'epoch': 1.4}\n"
     ]
    },
    {
     "name": "stderr",
     "output_type": "stream",
     "text": [
      "Model weights saved in ./pegasus_trained_model\\checkpoint-7500\\pytorch_model.bin\n",
      " 47%|████▋     | 7600/16053 [6:27:21<4:43:00,  2.01s/it]Saving model checkpoint to ./pegasus_trained_model\\checkpoint-7600\n",
      "Configuration saved in ./pegasus_trained_model\\checkpoint-7600\\config.json\n",
      "Model weights saved in ./pegasus_trained_model\\checkpoint-7600\\pytorch_model.bin\n",
      " 48%|████▊     | 7700/16053 [6:30:46<4:38:26,  2.00s/it]Saving model checkpoint to ./pegasus_trained_model\\checkpoint-7700\n",
      "Configuration saved in ./pegasus_trained_model\\checkpoint-7700\\config.json\n",
      "Model weights saved in ./pegasus_trained_model\\checkpoint-7700\\pytorch_model.bin\n",
      " 49%|████▊     | 7800/16053 [6:34:12<4:36:00,  2.01s/it]Saving model checkpoint to ./pegasus_trained_model\\checkpoint-7800\n",
      "Configuration saved in ./pegasus_trained_model\\checkpoint-7800\\config.json\n",
      "Model weights saved in ./pegasus_trained_model\\checkpoint-7800\\pytorch_model.bin\n",
      " 49%|████▉     | 7900/16053 [6:37:37<4:33:20,  2.01s/it]Saving model checkpoint to ./pegasus_trained_model\\checkpoint-7900\n",
      "Configuration saved in ./pegasus_trained_model\\checkpoint-7900\\config.json\n",
      "Model weights saved in ./pegasus_trained_model\\checkpoint-7900\\pytorch_model.bin\n",
      " 50%|████▉     | 8000/16053 [6:41:03<4:30:47,  2.02s/it]Saving model checkpoint to ./pegasus_trained_model\\checkpoint-8000\n",
      "Configuration saved in ./pegasus_trained_model\\checkpoint-8000\\config.json\n"
     ]
    },
    {
     "name": "stdout",
     "output_type": "stream",
     "text": [
      "{'loss': 1.4539, 'learning_rate': 2.5082539089266806e-05, 'epoch': 1.5}\n"
     ]
    },
    {
     "name": "stderr",
     "output_type": "stream",
     "text": [
      "Model weights saved in ./pegasus_trained_model\\checkpoint-8000\\pytorch_model.bin\n",
      " 50%|█████     | 8100/16053 [6:44:29<4:26:24,  2.01s/it]Saving model checkpoint to ./pegasus_trained_model\\checkpoint-8100\n",
      "Configuration saved in ./pegasus_trained_model\\checkpoint-8100\\config.json\n",
      "Model weights saved in ./pegasus_trained_model\\checkpoint-8100\\pytorch_model.bin\n",
      " 51%|█████     | 8200/16053 [6:47:55<4:23:29,  2.01s/it]Saving model checkpoint to ./pegasus_trained_model\\checkpoint-8200\n",
      "Configuration saved in ./pegasus_trained_model\\checkpoint-8200\\config.json\n",
      "Model weights saved in ./pegasus_trained_model\\checkpoint-8200\\pytorch_model.bin\n",
      " 52%|█████▏    | 8300/16053 [6:51:22<4:20:15,  2.01s/it]Saving model checkpoint to ./pegasus_trained_model\\checkpoint-8300\n",
      "Configuration saved in ./pegasus_trained_model\\checkpoint-8300\\config.json\n",
      "Model weights saved in ./pegasus_trained_model\\checkpoint-8300\\pytorch_model.bin\n",
      " 52%|█████▏    | 8400/16053 [6:54:47<4:15:52,  2.01s/it]Saving model checkpoint to ./pegasus_trained_model\\checkpoint-8400\n",
      "Configuration saved in ./pegasus_trained_model\\checkpoint-8400\\config.json\n",
      "Model weights saved in ./pegasus_trained_model\\checkpoint-8400\\pytorch_model.bin\n",
      " 53%|█████▎    | 8500/16053 [6:58:13<4:13:53,  2.02s/it]Saving model checkpoint to ./pegasus_trained_model\\checkpoint-8500\n",
      "Configuration saved in ./pegasus_trained_model\\checkpoint-8500\\config.json\n"
     ]
    },
    {
     "name": "stdout",
     "output_type": "stream",
     "text": [
      "{'loss': 1.4177, 'learning_rate': 2.352519778234598e-05, 'epoch': 1.59}\n"
     ]
    },
    {
     "name": "stderr",
     "output_type": "stream",
     "text": [
      "Model weights saved in ./pegasus_trained_model\\checkpoint-8500\\pytorch_model.bin\n",
      " 54%|█████▎    | 8600/16053 [7:01:40<4:10:02,  2.01s/it]Saving model checkpoint to ./pegasus_trained_model\\checkpoint-8600\n",
      "Configuration saved in ./pegasus_trained_model\\checkpoint-8600\\config.json\n",
      "Model weights saved in ./pegasus_trained_model\\checkpoint-8600\\pytorch_model.bin\n",
      " 54%|█████▍    | 8700/16053 [7:05:05<4:06:06,  2.01s/it]Saving model checkpoint to ./pegasus_trained_model\\checkpoint-8700\n",
      "Configuration saved in ./pegasus_trained_model\\checkpoint-8700\\config.json\n",
      "Model weights saved in ./pegasus_trained_model\\checkpoint-8700\\pytorch_model.bin\n",
      " 55%|█████▍    | 8800/16053 [7:08:32<4:02:28,  2.01s/it]Saving model checkpoint to ./pegasus_trained_model\\checkpoint-8800\n",
      "Configuration saved in ./pegasus_trained_model\\checkpoint-8800\\config.json\n",
      "Model weights saved in ./pegasus_trained_model\\checkpoint-8800\\pytorch_model.bin\n",
      " 55%|█████▌    | 8900/16053 [7:11:58<4:00:52,  2.02s/it]Saving model checkpoint to ./pegasus_trained_model\\checkpoint-8900\n",
      "Configuration saved in ./pegasus_trained_model\\checkpoint-8900\\config.json\n",
      "Model weights saved in ./pegasus_trained_model\\checkpoint-8900\\pytorch_model.bin\n",
      " 56%|█████▌    | 9000/16053 [7:15:25<3:57:14,  2.02s/it]Saving model checkpoint to ./pegasus_trained_model\\checkpoint-9000\n",
      "Configuration saved in ./pegasus_trained_model\\checkpoint-9000\\config.json\n"
     ]
    },
    {
     "name": "stdout",
     "output_type": "stream",
     "text": [
      "{'loss': 1.4327, 'learning_rate': 2.1967856475425156e-05, 'epoch': 1.68}\n"
     ]
    },
    {
     "name": "stderr",
     "output_type": "stream",
     "text": [
      "Model weights saved in ./pegasus_trained_model\\checkpoint-9000\\pytorch_model.bin\n",
      " 57%|█████▋    | 9100/16053 [7:18:51<3:53:10,  2.01s/it]Saving model checkpoint to ./pegasus_trained_model\\checkpoint-9100\n",
      "Configuration saved in ./pegasus_trained_model\\checkpoint-9100\\config.json\n",
      "Model weights saved in ./pegasus_trained_model\\checkpoint-9100\\pytorch_model.bin\n",
      " 57%|█████▋    | 9200/16053 [7:22:19<3:49:56,  2.01s/it]Saving model checkpoint to ./pegasus_trained_model\\checkpoint-9200\n",
      "Configuration saved in ./pegasus_trained_model\\checkpoint-9200\\config.json\n",
      "Model weights saved in ./pegasus_trained_model\\checkpoint-9200\\pytorch_model.bin\n",
      " 58%|█████▊    | 9300/16053 [7:25:45<3:46:43,  2.01s/it]Saving model checkpoint to ./pegasus_trained_model\\checkpoint-9300\n",
      "Configuration saved in ./pegasus_trained_model\\checkpoint-9300\\config.json\n",
      "Model weights saved in ./pegasus_trained_model\\checkpoint-9300\\pytorch_model.bin\n"
     ]
    },
    {
     "ename": "RuntimeError",
     "evalue": "[enforce fail at inline_container.cc:424] . unexpected pos 3628774272 vs 3628774160",
     "output_type": "error",
     "traceback": [
      "\u001b[1;31m---------------------------------------------------------------------------\u001b[0m",
      "\u001b[1;31mRuntimeError\u001b[0m                              Traceback (most recent call last)",
      "File \u001b[1;32mc:\\Users\\mouha\\AppData\\Local\\Programs\\Python\\Python310\\lib\\site-packages\\torch\\serialization.py:619\u001b[0m, in \u001b[0;36msave\u001b[1;34m(obj, f, pickle_module, pickle_protocol, _use_new_zipfile_serialization, _disable_byteorder_record)\u001b[0m\n\u001b[0;32m    618\u001b[0m \u001b[38;5;28;01mwith\u001b[39;00m _open_zipfile_writer(f) \u001b[38;5;28;01mas\u001b[39;00m opened_zipfile:\n\u001b[1;32m--> 619\u001b[0m     \u001b[43m_save\u001b[49m\u001b[43m(\u001b[49m\u001b[43mobj\u001b[49m\u001b[43m,\u001b[49m\u001b[43m \u001b[49m\u001b[43mopened_zipfile\u001b[49m\u001b[43m,\u001b[49m\u001b[43m \u001b[49m\u001b[43mpickle_module\u001b[49m\u001b[43m,\u001b[49m\u001b[43m \u001b[49m\u001b[43mpickle_protocol\u001b[49m\u001b[43m,\u001b[49m\u001b[43m \u001b[49m\u001b[43m_disable_byteorder_record\u001b[49m\u001b[43m)\u001b[49m\n\u001b[0;32m    620\u001b[0m     \u001b[38;5;28;01mreturn\u001b[39;00m\n",
      "File \u001b[1;32mc:\\Users\\mouha\\AppData\\Local\\Programs\\Python\\Python310\\lib\\site-packages\\torch\\serialization.py:853\u001b[0m, in \u001b[0;36m_save\u001b[1;34m(obj, zip_file, pickle_module, pickle_protocol, _disable_byteorder_record)\u001b[0m\n\u001b[0;32m    852\u001b[0m num_bytes \u001b[38;5;241m=\u001b[39m storage\u001b[38;5;241m.\u001b[39mnbytes()\n\u001b[1;32m--> 853\u001b[0m \u001b[43mzip_file\u001b[49m\u001b[38;5;241;43m.\u001b[39;49m\u001b[43mwrite_record\u001b[49m\u001b[43m(\u001b[49m\u001b[43mname\u001b[49m\u001b[43m,\u001b[49m\u001b[43m \u001b[49m\u001b[43mstorage\u001b[49m\u001b[38;5;241;43m.\u001b[39;49m\u001b[43mdata_ptr\u001b[49m\u001b[43m(\u001b[49m\u001b[43m)\u001b[49m\u001b[43m,\u001b[49m\u001b[43m \u001b[49m\u001b[43mnum_bytes\u001b[49m\u001b[43m)\u001b[49m\n",
      "\u001b[1;31mRuntimeError\u001b[0m: [enforce fail at inline_container.cc:593] . PytorchStreamWriter failed writing file data/453: file write failed",
      "\nDuring handling of the above exception, another exception occurred:\n",
      "\u001b[1;31mRuntimeError\u001b[0m                              Traceback (most recent call last)",
      "Cell \u001b[1;32mIn[1], line 57\u001b[0m\n\u001b[0;32m     50\u001b[0m trainer \u001b[38;5;241m=\u001b[39m Trainer(\n\u001b[0;32m     51\u001b[0m     model\u001b[38;5;241m=\u001b[39mmodel_pegasus,\n\u001b[0;32m     52\u001b[0m     args\u001b[38;5;241m=\u001b[39mtraining_args,\n\u001b[0;32m     53\u001b[0m     train_dataset\u001b[38;5;241m=\u001b[39mtrain_dataset,\n\u001b[0;32m     54\u001b[0m )\n\u001b[0;32m     56\u001b[0m \u001b[38;5;66;03m# Train the model\u001b[39;00m\n\u001b[1;32m---> 57\u001b[0m \u001b[43mtrainer\u001b[49m\u001b[38;5;241;43m.\u001b[39;49m\u001b[43mtrain\u001b[49m\u001b[43m(\u001b[49m\u001b[43m)\u001b[49m\n\u001b[0;32m     59\u001b[0m \u001b[38;5;66;03m# Save the trained model\u001b[39;00m\n\u001b[0;32m     60\u001b[0m model_pegasus\u001b[38;5;241m.\u001b[39msave_pretrained(\u001b[38;5;124m\"\u001b[39m\u001b[38;5;124mtrained_pegasus_model\u001b[39m\u001b[38;5;124m\"\u001b[39m)\n",
      "File \u001b[1;32mc:\\Users\\mouha\\AppData\\Local\\Programs\\Python\\Python310\\lib\\site-packages\\transformers\\trainer.py:1440\u001b[0m, in \u001b[0;36mTrainer.train\u001b[1;34m(self, resume_from_checkpoint, trial, ignore_keys_for_eval, **kwargs)\u001b[0m\n\u001b[0;32m   1437\u001b[0m     \u001b[38;5;28mself\u001b[39m\u001b[38;5;241m.\u001b[39mstate\u001b[38;5;241m.\u001b[39mepoch \u001b[38;5;241m=\u001b[39m epoch \u001b[38;5;241m+\u001b[39m (step \u001b[38;5;241m+\u001b[39m \u001b[38;5;241m1\u001b[39m) \u001b[38;5;241m/\u001b[39m steps_in_epoch\n\u001b[0;32m   1438\u001b[0m     \u001b[38;5;28mself\u001b[39m\u001b[38;5;241m.\u001b[39mcontrol \u001b[38;5;241m=\u001b[39m \u001b[38;5;28mself\u001b[39m\u001b[38;5;241m.\u001b[39mcallback_handler\u001b[38;5;241m.\u001b[39mon_step_end(args, \u001b[38;5;28mself\u001b[39m\u001b[38;5;241m.\u001b[39mstate, \u001b[38;5;28mself\u001b[39m\u001b[38;5;241m.\u001b[39mcontrol)\n\u001b[1;32m-> 1440\u001b[0m     \u001b[38;5;28;43mself\u001b[39;49m\u001b[38;5;241;43m.\u001b[39;49m\u001b[43m_maybe_log_save_evaluate\u001b[49m\u001b[43m(\u001b[49m\u001b[43mtr_loss\u001b[49m\u001b[43m,\u001b[49m\u001b[43m \u001b[49m\u001b[43mmodel\u001b[49m\u001b[43m,\u001b[49m\u001b[43m \u001b[49m\u001b[43mtrial\u001b[49m\u001b[43m,\u001b[49m\u001b[43m \u001b[49m\u001b[43mepoch\u001b[49m\u001b[43m,\u001b[49m\u001b[43m \u001b[49m\u001b[43mignore_keys_for_eval\u001b[49m\u001b[43m)\u001b[49m\n\u001b[0;32m   1441\u001b[0m \u001b[38;5;28;01melse\u001b[39;00m:\n\u001b[0;32m   1442\u001b[0m     \u001b[38;5;28mself\u001b[39m\u001b[38;5;241m.\u001b[39mcontrol \u001b[38;5;241m=\u001b[39m \u001b[38;5;28mself\u001b[39m\u001b[38;5;241m.\u001b[39mcallback_handler\u001b[38;5;241m.\u001b[39mon_substep_end(args, \u001b[38;5;28mself\u001b[39m\u001b[38;5;241m.\u001b[39mstate, \u001b[38;5;28mself\u001b[39m\u001b[38;5;241m.\u001b[39mcontrol)\n",
      "File \u001b[1;32mc:\\Users\\mouha\\AppData\\Local\\Programs\\Python\\Python310\\lib\\site-packages\\transformers\\trainer.py:1569\u001b[0m, in \u001b[0;36mTrainer._maybe_log_save_evaluate\u001b[1;34m(self, tr_loss, model, trial, epoch, ignore_keys_for_eval)\u001b[0m\n\u001b[0;32m   1566\u001b[0m     \u001b[38;5;28mself\u001b[39m\u001b[38;5;241m.\u001b[39m_report_to_hp_search(trial, epoch, metrics)\n\u001b[0;32m   1568\u001b[0m \u001b[38;5;28;01mif\u001b[39;00m \u001b[38;5;28mself\u001b[39m\u001b[38;5;241m.\u001b[39mcontrol\u001b[38;5;241m.\u001b[39mshould_save:\n\u001b[1;32m-> 1569\u001b[0m     \u001b[38;5;28;43mself\u001b[39;49m\u001b[38;5;241;43m.\u001b[39;49m\u001b[43m_save_checkpoint\u001b[49m\u001b[43m(\u001b[49m\u001b[43mmodel\u001b[49m\u001b[43m,\u001b[49m\u001b[43m \u001b[49m\u001b[43mtrial\u001b[49m\u001b[43m,\u001b[49m\u001b[43m \u001b[49m\u001b[43mmetrics\u001b[49m\u001b[38;5;241;43m=\u001b[39;49m\u001b[43mmetrics\u001b[49m\u001b[43m)\u001b[49m\n\u001b[0;32m   1570\u001b[0m     \u001b[38;5;28mself\u001b[39m\u001b[38;5;241m.\u001b[39mcontrol \u001b[38;5;241m=\u001b[39m \u001b[38;5;28mself\u001b[39m\u001b[38;5;241m.\u001b[39mcallback_handler\u001b[38;5;241m.\u001b[39mon_save(\u001b[38;5;28mself\u001b[39m\u001b[38;5;241m.\u001b[39margs, \u001b[38;5;28mself\u001b[39m\u001b[38;5;241m.\u001b[39mstate, \u001b[38;5;28mself\u001b[39m\u001b[38;5;241m.\u001b[39mcontrol)\n",
      "File \u001b[1;32mc:\\Users\\mouha\\AppData\\Local\\Programs\\Python\\Python310\\lib\\site-packages\\transformers\\trainer.py:1667\u001b[0m, in \u001b[0;36mTrainer._save_checkpoint\u001b[1;34m(self, model, trial, metrics)\u001b[0m\n\u001b[0;32m   1664\u001b[0m                 torch\u001b[38;5;241m.\u001b[39msave(\u001b[38;5;28mself\u001b[39m\u001b[38;5;241m.\u001b[39mscaler\u001b[38;5;241m.\u001b[39mstate_dict(), os\u001b[38;5;241m.\u001b[39mpath\u001b[38;5;241m.\u001b[39mjoin(output_dir, SCALER_NAME))\n\u001b[0;32m   1665\u001b[0m \u001b[38;5;28;01melif\u001b[39;00m \u001b[38;5;28mself\u001b[39m\u001b[38;5;241m.\u001b[39margs\u001b[38;5;241m.\u001b[39mshould_save \u001b[38;5;129;01mand\u001b[39;00m \u001b[38;5;129;01mnot\u001b[39;00m \u001b[38;5;28mself\u001b[39m\u001b[38;5;241m.\u001b[39mdeepspeed:\n\u001b[0;32m   1666\u001b[0m     \u001b[38;5;66;03m# deepspeed.save_checkpoint above saves model/optim/sched\u001b[39;00m\n\u001b[1;32m-> 1667\u001b[0m     \u001b[43mtorch\u001b[49m\u001b[38;5;241;43m.\u001b[39;49m\u001b[43msave\u001b[49m\u001b[43m(\u001b[49m\u001b[38;5;28;43mself\u001b[39;49m\u001b[38;5;241;43m.\u001b[39;49m\u001b[43moptimizer\u001b[49m\u001b[38;5;241;43m.\u001b[39;49m\u001b[43mstate_dict\u001b[49m\u001b[43m(\u001b[49m\u001b[43m)\u001b[49m\u001b[43m,\u001b[49m\u001b[43m \u001b[49m\u001b[43mos\u001b[49m\u001b[38;5;241;43m.\u001b[39;49m\u001b[43mpath\u001b[49m\u001b[38;5;241;43m.\u001b[39;49m\u001b[43mjoin\u001b[49m\u001b[43m(\u001b[49m\u001b[43moutput_dir\u001b[49m\u001b[43m,\u001b[49m\u001b[43m \u001b[49m\u001b[43mOPTIMIZER_NAME\u001b[49m\u001b[43m)\u001b[49m\u001b[43m)\u001b[49m\n\u001b[0;32m   1668\u001b[0m     \u001b[38;5;28;01mwith\u001b[39;00m warnings\u001b[38;5;241m.\u001b[39mcatch_warnings(record\u001b[38;5;241m=\u001b[39m\u001b[38;5;28;01mTrue\u001b[39;00m) \u001b[38;5;28;01mas\u001b[39;00m caught_warnings:\n\u001b[0;32m   1669\u001b[0m         torch\u001b[38;5;241m.\u001b[39msave(\u001b[38;5;28mself\u001b[39m\u001b[38;5;241m.\u001b[39mlr_scheduler\u001b[38;5;241m.\u001b[39mstate_dict(), os\u001b[38;5;241m.\u001b[39mpath\u001b[38;5;241m.\u001b[39mjoin(output_dir, SCHEDULER_NAME))\n",
      "File \u001b[1;32mc:\\Users\\mouha\\AppData\\Local\\Programs\\Python\\Python310\\lib\\site-packages\\torch\\serialization.py:618\u001b[0m, in \u001b[0;36msave\u001b[1;34m(obj, f, pickle_module, pickle_protocol, _use_new_zipfile_serialization, _disable_byteorder_record)\u001b[0m\n\u001b[0;32m    615\u001b[0m _check_save_filelike(f)\n\u001b[0;32m    617\u001b[0m \u001b[38;5;28;01mif\u001b[39;00m _use_new_zipfile_serialization:\n\u001b[1;32m--> 618\u001b[0m     \u001b[38;5;28;01mwith\u001b[39;00m _open_zipfile_writer(f) \u001b[38;5;28;01mas\u001b[39;00m opened_zipfile:\n\u001b[0;32m    619\u001b[0m         _save(obj, opened_zipfile, pickle_module, pickle_protocol, _disable_byteorder_record)\n\u001b[0;32m    620\u001b[0m         \u001b[38;5;28;01mreturn\u001b[39;00m\n",
      "File \u001b[1;32mc:\\Users\\mouha\\AppData\\Local\\Programs\\Python\\Python310\\lib\\site-packages\\torch\\serialization.py:466\u001b[0m, in \u001b[0;36m_open_zipfile_writer_file.__exit__\u001b[1;34m(self, *args)\u001b[0m\n\u001b[0;32m    465\u001b[0m \u001b[38;5;28;01mdef\u001b[39;00m \u001b[38;5;21m__exit__\u001b[39m(\u001b[38;5;28mself\u001b[39m, \u001b[38;5;241m*\u001b[39margs) \u001b[38;5;241m-\u001b[39m\u001b[38;5;241m>\u001b[39m \u001b[38;5;28;01mNone\u001b[39;00m:\n\u001b[1;32m--> 466\u001b[0m     \u001b[38;5;28;43mself\u001b[39;49m\u001b[38;5;241;43m.\u001b[39;49m\u001b[43mfile_like\u001b[49m\u001b[38;5;241;43m.\u001b[39;49m\u001b[43mwrite_end_of_file\u001b[49m\u001b[43m(\u001b[49m\u001b[43m)\u001b[49m\n\u001b[0;32m    467\u001b[0m     \u001b[38;5;28;01mif\u001b[39;00m \u001b[38;5;28mself\u001b[39m\u001b[38;5;241m.\u001b[39mfile_stream \u001b[38;5;129;01mis\u001b[39;00m \u001b[38;5;129;01mnot\u001b[39;00m \u001b[38;5;28;01mNone\u001b[39;00m:\n\u001b[0;32m    468\u001b[0m         \u001b[38;5;28mself\u001b[39m\u001b[38;5;241m.\u001b[39mfile_stream\u001b[38;5;241m.\u001b[39mclose()\n",
      "\u001b[1;31mRuntimeError\u001b[0m: [enforce fail at inline_container.cc:424] . unexpected pos 3628774272 vs 3628774160"
     ]
    }
   ],
   "source": [
    "import torch\n",
    "from torch.utils.data import Dataset\n",
    "from transformers import PegasusForConditionalGeneration, PegasusTokenizer, Trainer, TrainingArguments\n",
    "import pandas as pd\n",
    "\n",
    "class CustomDataset(Dataset):\n",
    "    def __init__(self, tokenizer, data_file, max_input_length, max_target_length):\n",
    "        self.tokenizer = tokenizer\n",
    "        self.data = pd.read_csv(data_file)\n",
    "        self.max_input_length = max_input_length\n",
    "        self.max_target_length = max_target_length\n",
    "\n",
    "    def __len__(self):\n",
    "        return len(self.data)\n",
    "\n",
    "    def __getitem__(self, index):\n",
    "        input_text = self.data.iloc[index][\"text\"]\n",
    "        target_text = self.data.iloc[index][\"titles\"]\n",
    "\n",
    "        # Tokenize the input and target texts\n",
    "        inputs = self.tokenizer(input_text, padding=\"max_length\", truncation=True, max_length=self.max_input_length, return_tensors=\"pt\")\n",
    "        targets = self.tokenizer(target_text, padding=\"max_length\", truncation=True, max_length=self.max_target_length, return_tensors=\"pt\")\n",
    "\n",
    "        return {\n",
    "            \"input_ids\": inputs.input_ids[0],\n",
    "            \"attention_mask\": inputs.attention_mask[0],\n",
    "            \"labels\": targets.input_ids[0],\n",
    "        }\n",
    "\n",
    "# Check if CUDA is available and use the GPU if so\n",
    "device = torch.device(\"cuda\" if torch.cuda.is_available() else \"cpu\")\n",
    "\n",
    "# Load the tokenizer and the Pegasus model pretrained on the GPU\n",
    "tokenizer = PegasusTokenizer.from_pretrained(\"google/pegasus-xsum\")\n",
    "model_pegasus = PegasusForConditionalGeneration.from_pretrained(\"google/pegasus-xsum\").to(device)\n",
    "\n",
    "# Create the training dataset\n",
    "train_dataset = CustomDataset(tokenizer, \"data/train.csv\", max_input_length=128, max_target_length=128)\n",
    "\n",
    "# Define the training arguments\n",
    "training_args = TrainingArguments(\n",
    "    output_dir=\"./pegasus_trained_model\",\n",
    "    num_train_epochs=3,  # Number of training epochs\n",
    "    per_device_train_batch_size=4,  # Batch size per GPU\n",
    "    save_steps=100,  # Model saving frequency\n",
    "    logging_dir=\"./logs\",\n",
    ")\n",
    "\n",
    "# Define the Trainer for training\n",
    "trainer = Trainer(\n",
    "    model=model_pegasus,\n",
    "    args=training_args,\n",
    "    train_dataset=train_dataset,\n",
    ")\n",
    "\n",
    "# Train the model\n",
    "trainer.train()\n",
    "\n",
    "# Save the trained model\n",
    "model_pegasus.save_pretrained(\"trained_pegasus_model\")\n"
   ]
  },
  {
   "cell_type": "code",
   "execution_count": null,
   "metadata": {},
   "outputs": [],
   "source": [
    "\n",
    "# Generate summaries for the test data\n",
    "batch_size = 4  # Adjust batch size as needed\n",
    "test_data = pd.read_csv(\"data/test_text.csv\")\n",
    "num_batches = (len(test_data) + batch_size - 1) // batch_size\n",
    "\n",
    "generated_summaries = []\n",
    "\n",
    "# Set the model to evaluation mode\n",
    "model_pegasus.eval()\n",
    "\n",
    "with torch.no_grad():\n",
    "    for i in range(num_batches):\n",
    "        batch_data = test_data.iloc[i * batch_size: (i + 1) * batch_size]\n",
    "\n",
    "        # Tokenize the input texts\n",
    "        input_encodings = tokenizer(batch_data[\"text\"].tolist(), truncation=True, padding=True, return_tensors=\"pt\").to(device)\n",
    "\n",
    "        # Generate summaries\n",
    "        outputs = model_pegasus.generate(input_encodings[\"input_ids\"], max_length=50, num_beams=4, early_stopping=True)\n",
    "\n",
    "        # Decode the generated summaries\n",
    "        decoded_summaries = tokenizer.batch_decode(outputs, skip_special_tokens=True)\n",
    "\n",
    "        generated_summaries.extend(decoded_summaries)\n",
    "\n",
    "# Create a DataFrame for the submission\n",
    "submission_df = pd.DataFrame({\"ID\": test_data[\"ID\"], \"titles\": generated_summaries})\n",
    "\n",
    "# Save the DataFrame to a CSV file\n",
    "submission_df.to_csv(\"pegasus.csv\", index=False)"
   ]
  },
  {
   "cell_type": "code",
   "execution_count": null,
   "metadata": {},
   "outputs": [],
   "source": []
  }
 ],
 "metadata": {
  "kernelspec": {
   "display_name": "Python 3",
   "language": "python",
   "name": "python3"
  },
  "language_info": {
   "codemirror_mode": {
    "name": "ipython",
    "version": 3
   },
   "file_extension": ".py",
   "mimetype": "text/x-python",
   "name": "python",
   "nbconvert_exporter": "python",
   "pygments_lexer": "ipython3",
   "version": "3.10.7"
  }
 },
 "nbformat": 4,
 "nbformat_minor": 2
}
