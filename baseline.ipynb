{
 "cells": [
  {
   "cell_type": "code",
   "execution_count": 9,
   "metadata": {},
   "outputs": [],
   "source": [
    "# pip install rouge_score\n",
    "from operator import itemgetter\n",
    "import pandas as pd\n",
    "from rouge_score import rouge_scorer"
   ]
  },
  {
   "cell_type": "code",
   "execution_count": 2,
   "metadata": {},
   "outputs": [
    {
     "name": "stdout",
     "output_type": "stream",
     "text": [
      "Average Rouge-L F-Score with LEAD-1:  0.1535873817959459\n",
      "Average Rouge-L F-Score with EXT-ORACLE: 0.31354067145919595\n"
     ]
    }
   ],
   "source": [
    "# pip install rouge_score\n",
    "from operator import itemgetter\n",
    "import pandas as pd\n",
    "from rouge_score import rouge_scorer\n",
    "\n",
    "# Read the validation data\n",
    "validation_df = pd.read_csv('data/validation.csv')\n",
    "\n",
    "rouge_scores = []\n",
    "# Initialize Rouge Scorer\n",
    "scorer = rouge_scorer.RougeScorer(['rougeL'])\n",
    "\n",
    "# Function that generates summaries using LEAD-N\n",
    "def lead_summary(text: pd.core.series.Series, titles: pd.core.series.Series, scorer: rouge_scorer.RougeScorer):\n",
    "    summaries = []\n",
    "    for idx, row in text.items():\n",
    "        sentences = row.split(\".\")\n",
    "        summaries.append([idx, sentences[0] + \".\"])\n",
    "    return summaries\n",
    "\n",
    "# Function that generates summaries using EXT-ORACLE\n",
    "def ext_oracle_summary(text: pd.core.series.Series, titles: pd.core.series.Series, scorer: rouge_scorer.RougeScorer):\n",
    "    summaries = []\n",
    "    for idx, row in text.items():\n",
    "        sentences = row.split(\".\")\n",
    "        reference = titles.iloc[idx]\n",
    "        rs = [scorer.score(sentence, reference)['rougeL'][2] for sentence in sentences]\n",
    "        index, element = max(enumerate(rs), key=itemgetter(1))\n",
    "        summaries.append([idx, sentences[index]])  \n",
    "    return summaries\n",
    "    \n",
    "lead_summaries = lead_summary(validation_df['text'], validation_df['titles'], scorer)\n",
    "ext_oracle_summaries = ext_oracle_summary(validation_df['text'], validation_df['titles'], scorer)\n",
    "\n",
    "lead_rouge = []\n",
    "ext_oracle_rouge = []\n",
    "# Calculate the rouge-l score for each of the generated summaries compared to the original titles\n",
    "for idx, title in validation_df['titles'].items():\n",
    "    lead_rouge.append(scorer.score(lead_summaries[idx][1], title)['rougeL'][2])\n",
    "    ext_oracle_rouge.append(scorer.score(ext_oracle_summaries[idx][1], title)['rougeL'][2])\n",
    "\n",
    "avg_rouge_score_lead = sum(lead_rouge) / len(lead_rouge)\n",
    "avg_rouge_score_ext_oracle = sum(ext_oracle_rouge) / len(ext_oracle_rouge)\n",
    "\n",
    "print(\"Average Rouge-L F-Score with LEAD-1: \", avg_rouge_score_lead)\n",
    "print(\"Average Rouge-L F-Score with EXT-ORACLE:\", avg_rouge_score_ext_oracle)\n",
    "\n",
    "# Store the generated summaries in the Kaggle-accepted format\n",
    "lead_submission_df = pd.DataFrame(lead_summaries, columns=['ID', 'titles'])\n",
    "ext_oracle_submission_df = pd.DataFrame(ext_oracle_summaries, columns=['ID', 'titles'])\n",
    "lead_submission_df.to_csv('lead_submission.csv', index=False)\n",
    "ext_oracle_submission_df.to_csv('ext_oracle_submission.csv', index=False)"
   ]
  },
  {
   "cell_type": "code",
   "execution_count": null,
   "metadata": {},
   "outputs": [],
   "source": []
  }
 ],
 "metadata": {
  "kernelspec": {
   "display_name": "Python 3",
   "language": "python",
   "name": "python3"
  },
  "language_info": {
   "codemirror_mode": {
    "name": "ipython",
    "version": 3
   },
   "file_extension": ".py",
   "mimetype": "text/x-python",
   "name": "python",
   "nbconvert_exporter": "python",
   "pygments_lexer": "ipython3",
   "version": "3.10.7"
  }
 },
 "nbformat": 4,
 "nbformat_minor": 2
}
