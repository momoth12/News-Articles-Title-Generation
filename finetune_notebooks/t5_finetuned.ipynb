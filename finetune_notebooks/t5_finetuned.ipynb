{
 "cells": [
  {
   "cell_type": "code",
   "execution_count": 3,
   "metadata": {},
   "outputs": [
    {
     "name": "stderr",
     "output_type": "stream",
     "text": [
      "loading file https://huggingface.co/t5-small/resolve/main/spiece.model from cache at C:\\Users\\mouha/.cache\\huggingface\\transformers\\65fc04e21f45f61430aea0c4fedffac16a4d20d78b8e6601d8d996ebefefecd2.3b69006860e7b5d0a63ffdddc01ddcd6b7c318a6f4fd793596552c741734c62d\n",
      "loading file https://huggingface.co/t5-small/resolve/main/added_tokens.json from cache at None\n",
      "loading file https://huggingface.co/t5-small/resolve/main/special_tokens_map.json from cache at None\n",
      "loading file https://huggingface.co/t5-small/resolve/main/tokenizer_config.json from cache at C:\\Users\\mouha/.cache\\huggingface\\transformers\\edbdb128668f5837a316e446d9d0dd59018a797db29e5bb3652db0e8fbe9cda5.679fa4e712151a8d260bfc3f42ace42f9309fe985622073b432663164029e77e\n",
      "loading file https://huggingface.co/t5-small/resolve/main/tokenizer.json from cache at C:\\Users\\mouha/.cache\\huggingface\\transformers\\06779097c78e12f47ef67ecb728810c2ae757ee0a9efe9390c6419783d99382d.8627f1bd5d270a9fd2e5a51c8bec3223896587cc3cfe13edeabb0992ab43c529\n",
      "loading configuration file https://huggingface.co/t5-small/resolve/main/config.json from cache at C:\\Users\\mouha/.cache\\huggingface\\transformers\\fe501e8fd6425b8ec93df37767fcce78ce626e34cc5edc859c662350cf712e41.d67b370cd9d75f81ad4eb421ee7b8db09e0b6a6c693b8c2b423af5d7bcac6205\n",
      "Model config T5Config {\n",
      "  \"architectures\": [\n",
      "    \"T5ForConditionalGeneration\"\n",
      "  ],\n",
      "  \"d_ff\": 2048,\n",
      "  \"d_kv\": 64,\n",
      "  \"d_model\": 512,\n",
      "  \"decoder_start_token_id\": 0,\n",
      "  \"dropout_rate\": 0.1,\n",
      "  \"eos_token_id\": 1,\n",
      "  \"feed_forward_proj\": \"relu\",\n",
      "  \"initializer_factor\": 1.0,\n",
      "  \"is_encoder_decoder\": true,\n",
      "  \"layer_norm_epsilon\": 1e-06,\n",
      "  \"model_type\": \"t5\",\n",
      "  \"n_positions\": 512,\n",
      "  \"num_decoder_layers\": 6,\n",
      "  \"num_heads\": 8,\n",
      "  \"num_layers\": 6,\n",
      "  \"output_past\": true,\n",
      "  \"pad_token_id\": 0,\n",
      "  \"relative_attention_num_buckets\": 32,\n",
      "  \"task_specific_params\": {\n",
      "    \"summarization\": {\n",
      "      \"early_stopping\": true,\n",
      "      \"length_penalty\": 2.0,\n",
      "      \"max_length\": 200,\n",
      "      \"min_length\": 30,\n",
      "      \"no_repeat_ngram_size\": 3,\n",
      "      \"num_beams\": 4,\n",
      "      \"prefix\": \"summarize: \"\n",
      "    },\n",
      "    \"translation_en_to_de\": {\n",
      "      \"early_stopping\": true,\n",
      "      \"max_length\": 300,\n",
      "      \"num_beams\": 4,\n",
      "      \"prefix\": \"translate English to German: \"\n",
      "    },\n",
      "    \"translation_en_to_fr\": {\n",
      "      \"early_stopping\": true,\n",
      "      \"max_length\": 300,\n",
      "      \"num_beams\": 4,\n",
      "      \"prefix\": \"translate English to French: \"\n",
      "    },\n",
      "    \"translation_en_to_ro\": {\n",
      "      \"early_stopping\": true,\n",
      "      \"max_length\": 300,\n",
      "      \"num_beams\": 4,\n",
      "      \"prefix\": \"translate English to Romanian: \"\n",
      "    }\n",
      "  },\n",
      "  \"transformers_version\": \"4.16.2\",\n",
      "  \"use_cache\": true,\n",
      "  \"vocab_size\": 32128\n",
      "}\n",
      "\n",
      "loading weights file https://huggingface.co/t5-small/resolve/main/pytorch_model.bin from cache at C:\\Users\\mouha/.cache\\huggingface\\transformers\\fee5a3a0ae379232608b6eed45d2d7a0d2966b9683728838412caccc41b4b0ed.ddacdc89ec88482db20c676f0861a336f3d0409f94748c209847b49529d73885\n",
      "All model checkpoint weights were used when initializing T5ForConditionalGeneration.\n",
      "\n",
      "All the weights of T5ForConditionalGeneration were initialized from the model checkpoint at t5-small.\n",
      "If your task is similar to the task the model of the checkpoint was trained on, you can already use T5ForConditionalGeneration for predictions without further training.\n",
      "PyTorch: setting up devices\n",
      "The default value for the training argument `--report_to` will change in v5 (from all installed integrations to none). In v5, you will need to use `--report_to all` to get the same behavior as now. You should start updating your code and make this info disappear :-).\n",
      "c:\\Users\\mouha\\AppData\\Local\\Programs\\Python\\Python310\\lib\\site-packages\\transformers\\optimization.py:306: FutureWarning: This implementation of AdamW is deprecated and will be removed in a future version. Use thePyTorch implementation torch.optim.AdamW instead, or set `no_deprecation_warning=True` to disable this warning\n",
      "  warnings.warn(\n",
      "***** Running training *****\n",
      "  Num examples = 21401\n",
      "  Num Epochs = 3\n",
      "  Instantaneous batch size per device = 4\n",
      "  Total train batch size (w. parallel, distributed & accumulation) = 4\n",
      "  Gradient Accumulation steps = 1\n",
      "  Total optimization steps = 16053\n",
      "Saving model checkpoint to ./t5_trained_model\\checkpoint-100\n",
      "Configuration saved in ./t5_trained_model\\checkpoint-100\\config.json\n",
      "Model weights saved in ./t5_trained_model\\checkpoint-100\\pytorch_model.bin\n",
      "Saving model checkpoint to ./t5_trained_model\\checkpoint-200\n",
      "Configuration saved in ./t5_trained_model\\checkpoint-200\\config.json\n",
      "Model weights saved in ./t5_trained_model\\checkpoint-200\\pytorch_model.bin\n",
      "Saving model checkpoint to ./t5_trained_model\\checkpoint-300\n",
      "Configuration saved in ./t5_trained_model\\checkpoint-300\\config.json\n",
      "Model weights saved in ./t5_trained_model\\checkpoint-300\\pytorch_model.bin\n",
      "Saving model checkpoint to ./t5_trained_model\\checkpoint-400\n",
      "Configuration saved in ./t5_trained_model\\checkpoint-400\\config.json\n",
      "Model weights saved in ./t5_trained_model\\checkpoint-400\\pytorch_model.bin\n",
      "                                     \n",
      "  0%|          | 0/3 [04:39<?, ?it/s]              Saving model checkpoint to ./t5_trained_model\\checkpoint-500\n",
      "Configuration saved in ./t5_trained_model\\checkpoint-500\\config.json\n"
     ]
    },
    {
     "name": "stdout",
     "output_type": "stream",
     "text": [
      "{'loss': 1.7534, 'learning_rate': 4.844265869307918e-05, 'epoch': 0.09}\n"
     ]
    },
    {
     "name": "stderr",
     "output_type": "stream",
     "text": [
      "Model weights saved in ./t5_trained_model\\checkpoint-500\\pytorch_model.bin\n",
      "Saving model checkpoint to ./t5_trained_model\\checkpoint-600\n",
      "Configuration saved in ./t5_trained_model\\checkpoint-600\\config.json\n",
      "Model weights saved in ./t5_trained_model\\checkpoint-600\\pytorch_model.bin\n",
      "Saving model checkpoint to ./t5_trained_model\\checkpoint-700\n",
      "Configuration saved in ./t5_trained_model\\checkpoint-700\\config.json\n",
      "Model weights saved in ./t5_trained_model\\checkpoint-700\\pytorch_model.bin\n",
      "Saving model checkpoint to ./t5_trained_model\\checkpoint-800\n",
      "Configuration saved in ./t5_trained_model\\checkpoint-800\\config.json\n",
      "Model weights saved in ./t5_trained_model\\checkpoint-800\\pytorch_model.bin\n",
      "Saving model checkpoint to ./t5_trained_model\\checkpoint-900\n",
      "Configuration saved in ./t5_trained_model\\checkpoint-900\\config.json\n",
      "Model weights saved in ./t5_trained_model\\checkpoint-900\\pytorch_model.bin\n",
      "                                     \n",
      "  0%|          | 0/3 [05:36<?, ?it/s]               Saving model checkpoint to ./t5_trained_model\\checkpoint-1000\n",
      "Configuration saved in ./t5_trained_model\\checkpoint-1000\\config.json\n"
     ]
    },
    {
     "name": "stdout",
     "output_type": "stream",
     "text": [
      "{'loss': 1.3439, 'learning_rate': 4.688531738615835e-05, 'epoch': 0.19}\n"
     ]
    },
    {
     "name": "stderr",
     "output_type": "stream",
     "text": [
      "Model weights saved in ./t5_trained_model\\checkpoint-1000\\pytorch_model.bin\n",
      "Saving model checkpoint to ./t5_trained_model\\checkpoint-1100\n",
      "Configuration saved in ./t5_trained_model\\checkpoint-1100\\config.json\n",
      "Model weights saved in ./t5_trained_model\\checkpoint-1100\\pytorch_model.bin\n",
      "Saving model checkpoint to ./t5_trained_model\\checkpoint-1200\n",
      "Configuration saved in ./t5_trained_model\\checkpoint-1200\\config.json\n",
      "Model weights saved in ./t5_trained_model\\checkpoint-1200\\pytorch_model.bin\n",
      "Saving model checkpoint to ./t5_trained_model\\checkpoint-1300\n",
      "Configuration saved in ./t5_trained_model\\checkpoint-1300\\config.json\n",
      "Model weights saved in ./t5_trained_model\\checkpoint-1300\\pytorch_model.bin\n",
      "Saving model checkpoint to ./t5_trained_model\\checkpoint-1400\n",
      "Configuration saved in ./t5_trained_model\\checkpoint-1400\\config.json\n",
      "Model weights saved in ./t5_trained_model\\checkpoint-1400\\pytorch_model.bin\n",
      "                                     \n",
      "  0%|          | 0/3 [06:32<?, ?it/s]               Saving model checkpoint to ./t5_trained_model\\checkpoint-1500\n",
      "Configuration saved in ./t5_trained_model\\checkpoint-1500\\config.json\n"
     ]
    },
    {
     "name": "stdout",
     "output_type": "stream",
     "text": [
      "{'loss': 1.3404, 'learning_rate': 4.5327976079237525e-05, 'epoch': 0.28}\n"
     ]
    },
    {
     "name": "stderr",
     "output_type": "stream",
     "text": [
      "Model weights saved in ./t5_trained_model\\checkpoint-1500\\pytorch_model.bin\n",
      "Saving model checkpoint to ./t5_trained_model\\checkpoint-1600\n",
      "Configuration saved in ./t5_trained_model\\checkpoint-1600\\config.json\n",
      "Model weights saved in ./t5_trained_model\\checkpoint-1600\\pytorch_model.bin\n",
      "Saving model checkpoint to ./t5_trained_model\\checkpoint-1700\n",
      "Configuration saved in ./t5_trained_model\\checkpoint-1700\\config.json\n",
      "Model weights saved in ./t5_trained_model\\checkpoint-1700\\pytorch_model.bin\n",
      "Saving model checkpoint to ./t5_trained_model\\checkpoint-1800\n",
      "Configuration saved in ./t5_trained_model\\checkpoint-1800\\config.json\n",
      "Model weights saved in ./t5_trained_model\\checkpoint-1800\\pytorch_model.bin\n",
      "Saving model checkpoint to ./t5_trained_model\\checkpoint-1900\n",
      "Configuration saved in ./t5_trained_model\\checkpoint-1900\\config.json\n",
      "Model weights saved in ./t5_trained_model\\checkpoint-1900\\pytorch_model.bin\n",
      "                                     \n",
      "  0%|          | 0/3 [07:50<?, ?it/s]               Saving model checkpoint to ./t5_trained_model\\checkpoint-2000\n",
      "Configuration saved in ./t5_trained_model\\checkpoint-2000\\config.json\n"
     ]
    },
    {
     "name": "stdout",
     "output_type": "stream",
     "text": [
      "{'loss': 1.3112, 'learning_rate': 4.37706347723167e-05, 'epoch': 0.37}\n"
     ]
    },
    {
     "name": "stderr",
     "output_type": "stream",
     "text": [
      "Model weights saved in ./t5_trained_model\\checkpoint-2000\\pytorch_model.bin\n",
      "Saving model checkpoint to ./t5_trained_model\\checkpoint-2100\n",
      "Configuration saved in ./t5_trained_model\\checkpoint-2100\\config.json\n",
      "Model weights saved in ./t5_trained_model\\checkpoint-2100\\pytorch_model.bin\n",
      "Saving model checkpoint to ./t5_trained_model\\checkpoint-2200\n",
      "Configuration saved in ./t5_trained_model\\checkpoint-2200\\config.json\n",
      "Model weights saved in ./t5_trained_model\\checkpoint-2200\\pytorch_model.bin\n",
      "Saving model checkpoint to ./t5_trained_model\\checkpoint-2300\n",
      "Configuration saved in ./t5_trained_model\\checkpoint-2300\\config.json\n",
      "Model weights saved in ./t5_trained_model\\checkpoint-2300\\pytorch_model.bin\n",
      "Saving model checkpoint to ./t5_trained_model\\checkpoint-2400\n",
      "Configuration saved in ./t5_trained_model\\checkpoint-2400\\config.json\n",
      "Model weights saved in ./t5_trained_model\\checkpoint-2400\\pytorch_model.bin\n",
      "                                     \n",
      "  0%|          | 0/3 [09:10<?, ?it/s]               Saving model checkpoint to ./t5_trained_model\\checkpoint-2500\n",
      "Configuration saved in ./t5_trained_model\\checkpoint-2500\\config.json\n"
     ]
    },
    {
     "name": "stdout",
     "output_type": "stream",
     "text": [
      "{'loss': 1.334, 'learning_rate': 4.2213293465395875e-05, 'epoch': 0.47}\n"
     ]
    },
    {
     "name": "stderr",
     "output_type": "stream",
     "text": [
      "Model weights saved in ./t5_trained_model\\checkpoint-2500\\pytorch_model.bin\n",
      "Saving model checkpoint to ./t5_trained_model\\checkpoint-2600\n",
      "Configuration saved in ./t5_trained_model\\checkpoint-2600\\config.json\n",
      "Model weights saved in ./t5_trained_model\\checkpoint-2600\\pytorch_model.bin\n",
      "Saving model checkpoint to ./t5_trained_model\\checkpoint-2700\n",
      "Configuration saved in ./t5_trained_model\\checkpoint-2700\\config.json\n",
      "Model weights saved in ./t5_trained_model\\checkpoint-2700\\pytorch_model.bin\n",
      "Saving model checkpoint to ./t5_trained_model\\checkpoint-2800\n",
      "Configuration saved in ./t5_trained_model\\checkpoint-2800\\config.json\n",
      "Model weights saved in ./t5_trained_model\\checkpoint-2800\\pytorch_model.bin\n",
      "Saving model checkpoint to ./t5_trained_model\\checkpoint-2900\n",
      "Configuration saved in ./t5_trained_model\\checkpoint-2900\\config.json\n",
      "Model weights saved in ./t5_trained_model\\checkpoint-2900\\pytorch_model.bin\n",
      "                                     \n",
      "  0%|          | 0/3 [10:29<?, ?it/s]               Saving model checkpoint to ./t5_trained_model\\checkpoint-3000\n",
      "Configuration saved in ./t5_trained_model\\checkpoint-3000\\config.json\n"
     ]
    },
    {
     "name": "stdout",
     "output_type": "stream",
     "text": [
      "{'loss': 1.2927, 'learning_rate': 4.0655952158475054e-05, 'epoch': 0.56}\n"
     ]
    },
    {
     "name": "stderr",
     "output_type": "stream",
     "text": [
      "Model weights saved in ./t5_trained_model\\checkpoint-3000\\pytorch_model.bin\n",
      "Saving model checkpoint to ./t5_trained_model\\checkpoint-3100\n",
      "Configuration saved in ./t5_trained_model\\checkpoint-3100\\config.json\n",
      "Model weights saved in ./t5_trained_model\\checkpoint-3100\\pytorch_model.bin\n",
      "Saving model checkpoint to ./t5_trained_model\\checkpoint-3200\n",
      "Configuration saved in ./t5_trained_model\\checkpoint-3200\\config.json\n",
      "Model weights saved in ./t5_trained_model\\checkpoint-3200\\pytorch_model.bin\n",
      "Saving model checkpoint to ./t5_trained_model\\checkpoint-3300\n",
      "Configuration saved in ./t5_trained_model\\checkpoint-3300\\config.json\n",
      "Model weights saved in ./t5_trained_model\\checkpoint-3300\\pytorch_model.bin\n",
      "Saving model checkpoint to ./t5_trained_model\\checkpoint-3400\n",
      "Configuration saved in ./t5_trained_model\\checkpoint-3400\\config.json\n",
      "Model weights saved in ./t5_trained_model\\checkpoint-3400\\pytorch_model.bin\n",
      "                                     \n",
      "  0%|          | 0/3 [11:49<?, ?it/s]               Saving model checkpoint to ./t5_trained_model\\checkpoint-3500\n",
      "Configuration saved in ./t5_trained_model\\checkpoint-3500\\config.json\n"
     ]
    },
    {
     "name": "stdout",
     "output_type": "stream",
     "text": [
      "{'loss': 1.2982, 'learning_rate': 3.909861085155423e-05, 'epoch': 0.65}\n"
     ]
    },
    {
     "name": "stderr",
     "output_type": "stream",
     "text": [
      "Model weights saved in ./t5_trained_model\\checkpoint-3500\\pytorch_model.bin\n",
      "Saving model checkpoint to ./t5_trained_model\\checkpoint-3600\n",
      "Configuration saved in ./t5_trained_model\\checkpoint-3600\\config.json\n",
      "Model weights saved in ./t5_trained_model\\checkpoint-3600\\pytorch_model.bin\n",
      "Saving model checkpoint to ./t5_trained_model\\checkpoint-3700\n",
      "Configuration saved in ./t5_trained_model\\checkpoint-3700\\config.json\n",
      "Model weights saved in ./t5_trained_model\\checkpoint-3700\\pytorch_model.bin\n",
      "Saving model checkpoint to ./t5_trained_model\\checkpoint-3800\n",
      "Configuration saved in ./t5_trained_model\\checkpoint-3800\\config.json\n",
      "Model weights saved in ./t5_trained_model\\checkpoint-3800\\pytorch_model.bin\n",
      "Saving model checkpoint to ./t5_trained_model\\checkpoint-3900\n",
      "Configuration saved in ./t5_trained_model\\checkpoint-3900\\config.json\n",
      "Model weights saved in ./t5_trained_model\\checkpoint-3900\\pytorch_model.bin\n",
      "                                     \n",
      "  0%|          | 0/3 [13:10<?, ?it/s]               Saving model checkpoint to ./t5_trained_model\\checkpoint-4000\n",
      "Configuration saved in ./t5_trained_model\\checkpoint-4000\\config.json\n"
     ]
    },
    {
     "name": "stdout",
     "output_type": "stream",
     "text": [
      "{'loss': 1.3023, 'learning_rate': 3.7541269544633404e-05, 'epoch': 0.75}\n"
     ]
    },
    {
     "name": "stderr",
     "output_type": "stream",
     "text": [
      "Model weights saved in ./t5_trained_model\\checkpoint-4000\\pytorch_model.bin\n",
      "Saving model checkpoint to ./t5_trained_model\\checkpoint-4100\n",
      "Configuration saved in ./t5_trained_model\\checkpoint-4100\\config.json\n",
      "Model weights saved in ./t5_trained_model\\checkpoint-4100\\pytorch_model.bin\n",
      "Saving model checkpoint to ./t5_trained_model\\checkpoint-4200\n",
      "Configuration saved in ./t5_trained_model\\checkpoint-4200\\config.json\n",
      "Model weights saved in ./t5_trained_model\\checkpoint-4200\\pytorch_model.bin\n",
      "Saving model checkpoint to ./t5_trained_model\\checkpoint-4300\n",
      "Configuration saved in ./t5_trained_model\\checkpoint-4300\\config.json\n",
      "Model weights saved in ./t5_trained_model\\checkpoint-4300\\pytorch_model.bin\n",
      "Saving model checkpoint to ./t5_trained_model\\checkpoint-4400\n",
      "Configuration saved in ./t5_trained_model\\checkpoint-4400\\config.json\n",
      "Model weights saved in ./t5_trained_model\\checkpoint-4400\\pytorch_model.bin\n",
      "                                     \n",
      "  0%|          | 0/3 [14:28<?, ?it/s]               Saving model checkpoint to ./t5_trained_model\\checkpoint-4500\n",
      "Configuration saved in ./t5_trained_model\\checkpoint-4500\\config.json\n"
     ]
    },
    {
     "name": "stdout",
     "output_type": "stream",
     "text": [
      "{'loss': 1.2804, 'learning_rate': 3.5983928237712576e-05, 'epoch': 0.84}\n"
     ]
    },
    {
     "name": "stderr",
     "output_type": "stream",
     "text": [
      "Model weights saved in ./t5_trained_model\\checkpoint-4500\\pytorch_model.bin\n",
      "Saving model checkpoint to ./t5_trained_model\\checkpoint-4600\n",
      "Configuration saved in ./t5_trained_model\\checkpoint-4600\\config.json\n",
      "Model weights saved in ./t5_trained_model\\checkpoint-4600\\pytorch_model.bin\n",
      "Saving model checkpoint to ./t5_trained_model\\checkpoint-4700\n",
      "Configuration saved in ./t5_trained_model\\checkpoint-4700\\config.json\n",
      "Model weights saved in ./t5_trained_model\\checkpoint-4700\\pytorch_model.bin\n",
      "Saving model checkpoint to ./t5_trained_model\\checkpoint-4800\n",
      "Configuration saved in ./t5_trained_model\\checkpoint-4800\\config.json\n",
      "Model weights saved in ./t5_trained_model\\checkpoint-4800\\pytorch_model.bin\n",
      "Saving model checkpoint to ./t5_trained_model\\checkpoint-4900\n",
      "Configuration saved in ./t5_trained_model\\checkpoint-4900\\config.json\n",
      "Model weights saved in ./t5_trained_model\\checkpoint-4900\\pytorch_model.bin\n",
      "                                     \n",
      "  0%|          | 0/3 [15:48<?, ?it/s]               Saving model checkpoint to ./t5_trained_model\\checkpoint-5000\n",
      "Configuration saved in ./t5_trained_model\\checkpoint-5000\\config.json\n"
     ]
    },
    {
     "name": "stdout",
     "output_type": "stream",
     "text": [
      "{'loss': 1.2974, 'learning_rate': 3.4426586930791755e-05, 'epoch': 0.93}\n"
     ]
    },
    {
     "name": "stderr",
     "output_type": "stream",
     "text": [
      "Model weights saved in ./t5_trained_model\\checkpoint-5000\\pytorch_model.bin\n",
      "Saving model checkpoint to ./t5_trained_model\\checkpoint-5100\n",
      "Configuration saved in ./t5_trained_model\\checkpoint-5100\\config.json\n",
      "Model weights saved in ./t5_trained_model\\checkpoint-5100\\pytorch_model.bin\n",
      "Saving model checkpoint to ./t5_trained_model\\checkpoint-5200\n",
      "Configuration saved in ./t5_trained_model\\checkpoint-5200\\config.json\n",
      "Model weights saved in ./t5_trained_model\\checkpoint-5200\\pytorch_model.bin\n",
      "Saving model checkpoint to ./t5_trained_model\\checkpoint-5300\n",
      "Configuration saved in ./t5_trained_model\\checkpoint-5300\\config.json\n",
      "Model weights saved in ./t5_trained_model\\checkpoint-5300\\pytorch_model.bin\n",
      "Saving model checkpoint to ./t5_trained_model\\checkpoint-5400\n",
      "Configuration saved in ./t5_trained_model\\checkpoint-5400\\config.json\n",
      "Model weights saved in ./t5_trained_model\\checkpoint-5400\\pytorch_model.bin\n",
      "                                     \n",
      "  0%|          | 0/3 [16:55<?, ?it/s]               Saving model checkpoint to ./t5_trained_model\\checkpoint-5500\n",
      "Configuration saved in ./t5_trained_model\\checkpoint-5500\\config.json\n",
      "Model weights saved in ./t5_trained_model\\checkpoint-5500\\pytorch_model.bin\n"
     ]
    },
    {
     "name": "stdout",
     "output_type": "stream",
     "text": [
      "{'loss': 1.2901, 'learning_rate': 3.286924562387093e-05, 'epoch': 1.03}\n"
     ]
    },
    {
     "name": "stderr",
     "output_type": "stream",
     "text": [
      "Saving model checkpoint to ./t5_trained_model\\checkpoint-5600\n",
      "Configuration saved in ./t5_trained_model\\checkpoint-5600\\config.json\n",
      "Model weights saved in ./t5_trained_model\\checkpoint-5600\\pytorch_model.bin\n",
      "Saving model checkpoint to ./t5_trained_model\\checkpoint-5700\n",
      "Configuration saved in ./t5_trained_model\\checkpoint-5700\\config.json\n",
      "Model weights saved in ./t5_trained_model\\checkpoint-5700\\pytorch_model.bin\n",
      "Saving model checkpoint to ./t5_trained_model\\checkpoint-5800\n",
      "Configuration saved in ./t5_trained_model\\checkpoint-5800\\config.json\n",
      "Model weights saved in ./t5_trained_model\\checkpoint-5800\\pytorch_model.bin\n",
      "Saving model checkpoint to ./t5_trained_model\\checkpoint-5900\n",
      "Configuration saved in ./t5_trained_model\\checkpoint-5900\\config.json\n",
      "Model weights saved in ./t5_trained_model\\checkpoint-5900\\pytorch_model.bin\n",
      "                                     \n",
      "  0%|          | 0/3 [17:34<?, ?it/s]               Saving model checkpoint to ./t5_trained_model\\checkpoint-6000\n",
      "Configuration saved in ./t5_trained_model\\checkpoint-6000\\config.json\n"
     ]
    },
    {
     "name": "stdout",
     "output_type": "stream",
     "text": [
      "{'loss': 1.2642, 'learning_rate': 3.1311904316950105e-05, 'epoch': 1.12}\n"
     ]
    },
    {
     "name": "stderr",
     "output_type": "stream",
     "text": [
      "Model weights saved in ./t5_trained_model\\checkpoint-6000\\pytorch_model.bin\n",
      "Saving model checkpoint to ./t5_trained_model\\checkpoint-6100\n",
      "Configuration saved in ./t5_trained_model\\checkpoint-6100\\config.json\n",
      "Model weights saved in ./t5_trained_model\\checkpoint-6100\\pytorch_model.bin\n",
      "Saving model checkpoint to ./t5_trained_model\\checkpoint-6200\n",
      "Configuration saved in ./t5_trained_model\\checkpoint-6200\\config.json\n",
      "Model weights saved in ./t5_trained_model\\checkpoint-6200\\pytorch_model.bin\n",
      "Saving model checkpoint to ./t5_trained_model\\checkpoint-6300\n",
      "Configuration saved in ./t5_trained_model\\checkpoint-6300\\config.json\n",
      "Model weights saved in ./t5_trained_model\\checkpoint-6300\\pytorch_model.bin\n",
      "Saving model checkpoint to ./t5_trained_model\\checkpoint-6400\n",
      "Configuration saved in ./t5_trained_model\\checkpoint-6400\\config.json\n",
      "Model weights saved in ./t5_trained_model\\checkpoint-6400\\pytorch_model.bin\n",
      "                                     \n",
      "  0%|          | 0/3 [18:16<?, ?it/s]               Saving model checkpoint to ./t5_trained_model\\checkpoint-6500\n",
      "Configuration saved in ./t5_trained_model\\checkpoint-6500\\config.json\n",
      "Model weights saved in ./t5_trained_model\\checkpoint-6500\\pytorch_model.bin\n"
     ]
    },
    {
     "name": "stdout",
     "output_type": "stream",
     "text": [
      "{'loss': 1.2642, 'learning_rate': 2.975456301002928e-05, 'epoch': 1.21}\n"
     ]
    },
    {
     "name": "stderr",
     "output_type": "stream",
     "text": [
      "Saving model checkpoint to ./t5_trained_model\\checkpoint-6600\n",
      "Configuration saved in ./t5_trained_model\\checkpoint-6600\\config.json\n",
      "Model weights saved in ./t5_trained_model\\checkpoint-6600\\pytorch_model.bin\n",
      "Saving model checkpoint to ./t5_trained_model\\checkpoint-6700\n",
      "Configuration saved in ./t5_trained_model\\checkpoint-6700\\config.json\n",
      "Model weights saved in ./t5_trained_model\\checkpoint-6700\\pytorch_model.bin\n",
      "Saving model checkpoint to ./t5_trained_model\\checkpoint-6800\n",
      "Configuration saved in ./t5_trained_model\\checkpoint-6800\\config.json\n",
      "Model weights saved in ./t5_trained_model\\checkpoint-6800\\pytorch_model.bin\n",
      "Saving model checkpoint to ./t5_trained_model\\checkpoint-6900\n",
      "Configuration saved in ./t5_trained_model\\checkpoint-6900\\config.json\n",
      "Model weights saved in ./t5_trained_model\\checkpoint-6900\\pytorch_model.bin\n",
      "                                     \n",
      "  0%|          | 0/3 [18:53<?, ?it/s]               Saving model checkpoint to ./t5_trained_model\\checkpoint-7000\n",
      "Configuration saved in ./t5_trained_model\\checkpoint-7000\\config.json\n",
      "Model weights saved in ./t5_trained_model\\checkpoint-7000\\pytorch_model.bin\n"
     ]
    },
    {
     "name": "stdout",
     "output_type": "stream",
     "text": [
      "{'loss': 1.2626, 'learning_rate': 2.8197221703108455e-05, 'epoch': 1.31}\n"
     ]
    },
    {
     "name": "stderr",
     "output_type": "stream",
     "text": [
      "Saving model checkpoint to ./t5_trained_model\\checkpoint-7100\n",
      "Configuration saved in ./t5_trained_model\\checkpoint-7100\\config.json\n",
      "Model weights saved in ./t5_trained_model\\checkpoint-7100\\pytorch_model.bin\n",
      "Saving model checkpoint to ./t5_trained_model\\checkpoint-7200\n",
      "Configuration saved in ./t5_trained_model\\checkpoint-7200\\config.json\n",
      "Model weights saved in ./t5_trained_model\\checkpoint-7200\\pytorch_model.bin\n",
      "Saving model checkpoint to ./t5_trained_model\\checkpoint-7300\n",
      "Configuration saved in ./t5_trained_model\\checkpoint-7300\\config.json\n",
      "Model weights saved in ./t5_trained_model\\checkpoint-7300\\pytorch_model.bin\n",
      "Saving model checkpoint to ./t5_trained_model\\checkpoint-7400\n",
      "Configuration saved in ./t5_trained_model\\checkpoint-7400\\config.json\n",
      "Model weights saved in ./t5_trained_model\\checkpoint-7400\\pytorch_model.bin\n",
      "                                     \n",
      "  0%|          | 0/3 [19:29<?, ?it/s]               Saving model checkpoint to ./t5_trained_model\\checkpoint-7500\n",
      "Configuration saved in ./t5_trained_model\\checkpoint-7500\\config.json\n"
     ]
    },
    {
     "name": "stdout",
     "output_type": "stream",
     "text": [
      "{'loss': 1.2423, 'learning_rate': 2.6639880396187627e-05, 'epoch': 1.4}\n"
     ]
    },
    {
     "name": "stderr",
     "output_type": "stream",
     "text": [
      "Model weights saved in ./t5_trained_model\\checkpoint-7500\\pytorch_model.bin\n",
      "Saving model checkpoint to ./t5_trained_model\\checkpoint-7600\n",
      "Configuration saved in ./t5_trained_model\\checkpoint-7600\\config.json\n",
      "Model weights saved in ./t5_trained_model\\checkpoint-7600\\pytorch_model.bin\n",
      "Saving model checkpoint to ./t5_trained_model\\checkpoint-7700\n",
      "Configuration saved in ./t5_trained_model\\checkpoint-7700\\config.json\n",
      "Model weights saved in ./t5_trained_model\\checkpoint-7700\\pytorch_model.bin\n",
      "Saving model checkpoint to ./t5_trained_model\\checkpoint-7800\n",
      "Configuration saved in ./t5_trained_model\\checkpoint-7800\\config.json\n",
      "Model weights saved in ./t5_trained_model\\checkpoint-7800\\pytorch_model.bin\n",
      "Saving model checkpoint to ./t5_trained_model\\checkpoint-7900\n",
      "Configuration saved in ./t5_trained_model\\checkpoint-7900\\config.json\n",
      "Model weights saved in ./t5_trained_model\\checkpoint-7900\\pytorch_model.bin\n",
      "                                     \n",
      "  0%|          | 0/3 [20:06<?, ?it/s]               Saving model checkpoint to ./t5_trained_model\\checkpoint-8000\n",
      "Configuration saved in ./t5_trained_model\\checkpoint-8000\\config.json\n"
     ]
    },
    {
     "name": "stdout",
     "output_type": "stream",
     "text": [
      "{'loss': 1.2565, 'learning_rate': 2.5082539089266806e-05, 'epoch': 1.5}\n"
     ]
    },
    {
     "name": "stderr",
     "output_type": "stream",
     "text": [
      "Model weights saved in ./t5_trained_model\\checkpoint-8000\\pytorch_model.bin\n",
      "Saving model checkpoint to ./t5_trained_model\\checkpoint-8100\n",
      "Configuration saved in ./t5_trained_model\\checkpoint-8100\\config.json\n",
      "Model weights saved in ./t5_trained_model\\checkpoint-8100\\pytorch_model.bin\n",
      "Saving model checkpoint to ./t5_trained_model\\checkpoint-8200\n",
      "Configuration saved in ./t5_trained_model\\checkpoint-8200\\config.json\n",
      "Model weights saved in ./t5_trained_model\\checkpoint-8200\\pytorch_model.bin\n",
      "Saving model checkpoint to ./t5_trained_model\\checkpoint-8300\n",
      "Configuration saved in ./t5_trained_model\\checkpoint-8300\\config.json\n",
      "Model weights saved in ./t5_trained_model\\checkpoint-8300\\pytorch_model.bin\n",
      "Saving model checkpoint to ./t5_trained_model\\checkpoint-8400\n",
      "Configuration saved in ./t5_trained_model\\checkpoint-8400\\config.json\n",
      "Model weights saved in ./t5_trained_model\\checkpoint-8400\\pytorch_model.bin\n",
      "                                     \n",
      "  0%|          | 0/3 [20:42<?, ?it/s]               Saving model checkpoint to ./t5_trained_model\\checkpoint-8500\n",
      "Configuration saved in ./t5_trained_model\\checkpoint-8500\\config.json\n",
      "Model weights saved in ./t5_trained_model\\checkpoint-8500\\pytorch_model.bin\n"
     ]
    },
    {
     "name": "stdout",
     "output_type": "stream",
     "text": [
      "{'loss': 1.2263, 'learning_rate': 2.352519778234598e-05, 'epoch': 1.59}\n"
     ]
    },
    {
     "name": "stderr",
     "output_type": "stream",
     "text": [
      "Saving model checkpoint to ./t5_trained_model\\checkpoint-8600\n",
      "Configuration saved in ./t5_trained_model\\checkpoint-8600\\config.json\n",
      "Model weights saved in ./t5_trained_model\\checkpoint-8600\\pytorch_model.bin\n",
      "Saving model checkpoint to ./t5_trained_model\\checkpoint-8700\n",
      "Configuration saved in ./t5_trained_model\\checkpoint-8700\\config.json\n",
      "Model weights saved in ./t5_trained_model\\checkpoint-8700\\pytorch_model.bin\n",
      "Saving model checkpoint to ./t5_trained_model\\checkpoint-8800\n",
      "Configuration saved in ./t5_trained_model\\checkpoint-8800\\config.json\n",
      "Model weights saved in ./t5_trained_model\\checkpoint-8800\\pytorch_model.bin\n",
      "Saving model checkpoint to ./t5_trained_model\\checkpoint-8900\n",
      "Configuration saved in ./t5_trained_model\\checkpoint-8900\\config.json\n",
      "Model weights saved in ./t5_trained_model\\checkpoint-8900\\pytorch_model.bin\n",
      "                                     \n",
      "  0%|          | 0/3 [21:19<?, ?it/s]               Saving model checkpoint to ./t5_trained_model\\checkpoint-9000\n",
      "Configuration saved in ./t5_trained_model\\checkpoint-9000\\config.json\n"
     ]
    },
    {
     "name": "stdout",
     "output_type": "stream",
     "text": [
      "{'loss': 1.2467, 'learning_rate': 2.1967856475425156e-05, 'epoch': 1.68}\n"
     ]
    },
    {
     "name": "stderr",
     "output_type": "stream",
     "text": [
      "Model weights saved in ./t5_trained_model\\checkpoint-9000\\pytorch_model.bin\n",
      "Saving model checkpoint to ./t5_trained_model\\checkpoint-9100\n",
      "Configuration saved in ./t5_trained_model\\checkpoint-9100\\config.json\n",
      "Model weights saved in ./t5_trained_model\\checkpoint-9100\\pytorch_model.bin\n",
      "Saving model checkpoint to ./t5_trained_model\\checkpoint-9200\n",
      "Configuration saved in ./t5_trained_model\\checkpoint-9200\\config.json\n",
      "Model weights saved in ./t5_trained_model\\checkpoint-9200\\pytorch_model.bin\n",
      "Saving model checkpoint to ./t5_trained_model\\checkpoint-9300\n",
      "Configuration saved in ./t5_trained_model\\checkpoint-9300\\config.json\n",
      "Model weights saved in ./t5_trained_model\\checkpoint-9300\\pytorch_model.bin\n",
      "Saving model checkpoint to ./t5_trained_model\\checkpoint-9400\n",
      "Configuration saved in ./t5_trained_model\\checkpoint-9400\\config.json\n",
      "Model weights saved in ./t5_trained_model\\checkpoint-9400\\pytorch_model.bin\n",
      "                                     \n",
      "  0%|          | 0/3 [21:55<?, ?it/s]               Saving model checkpoint to ./t5_trained_model\\checkpoint-9500\n",
      "Configuration saved in ./t5_trained_model\\checkpoint-9500\\config.json\n",
      "Model weights saved in ./t5_trained_model\\checkpoint-9500\\pytorch_model.bin\n"
     ]
    },
    {
     "name": "stdout",
     "output_type": "stream",
     "text": [
      "{'loss': 1.2486, 'learning_rate': 2.0410515168504328e-05, 'epoch': 1.78}\n"
     ]
    },
    {
     "name": "stderr",
     "output_type": "stream",
     "text": [
      "Saving model checkpoint to ./t5_trained_model\\checkpoint-9600\n",
      "Configuration saved in ./t5_trained_model\\checkpoint-9600\\config.json\n",
      "Model weights saved in ./t5_trained_model\\checkpoint-9600\\pytorch_model.bin\n",
      "Saving model checkpoint to ./t5_trained_model\\checkpoint-9700\n",
      "Configuration saved in ./t5_trained_model\\checkpoint-9700\\config.json\n",
      "Model weights saved in ./t5_trained_model\\checkpoint-9700\\pytorch_model.bin\n",
      "Saving model checkpoint to ./t5_trained_model\\checkpoint-9800\n",
      "Configuration saved in ./t5_trained_model\\checkpoint-9800\\config.json\n",
      "Model weights saved in ./t5_trained_model\\checkpoint-9800\\pytorch_model.bin\n",
      "Saving model checkpoint to ./t5_trained_model\\checkpoint-9900\n",
      "Configuration saved in ./t5_trained_model\\checkpoint-9900\\config.json\n",
      "Model weights saved in ./t5_trained_model\\checkpoint-9900\\pytorch_model.bin\n",
      "                                     \n",
      "  0%|          | 0/3 [22:32<?, ?it/s]                Saving model checkpoint to ./t5_trained_model\\checkpoint-10000\n",
      "Configuration saved in ./t5_trained_model\\checkpoint-10000\\config.json\n"
     ]
    },
    {
     "name": "stdout",
     "output_type": "stream",
     "text": [
      "{'loss': 1.2461, 'learning_rate': 1.8853173861583507e-05, 'epoch': 1.87}\n"
     ]
    },
    {
     "name": "stderr",
     "output_type": "stream",
     "text": [
      "Model weights saved in ./t5_trained_model\\checkpoint-10000\\pytorch_model.bin\n",
      "Saving model checkpoint to ./t5_trained_model\\checkpoint-10100\n",
      "Configuration saved in ./t5_trained_model\\checkpoint-10100\\config.json\n",
      "Model weights saved in ./t5_trained_model\\checkpoint-10100\\pytorch_model.bin\n",
      "Saving model checkpoint to ./t5_trained_model\\checkpoint-10200\n",
      "Configuration saved in ./t5_trained_model\\checkpoint-10200\\config.json\n",
      "Model weights saved in ./t5_trained_model\\checkpoint-10200\\pytorch_model.bin\n",
      "Saving model checkpoint to ./t5_trained_model\\checkpoint-10300\n",
      "Configuration saved in ./t5_trained_model\\checkpoint-10300\\config.json\n",
      "Model weights saved in ./t5_trained_model\\checkpoint-10300\\pytorch_model.bin\n",
      "Saving model checkpoint to ./t5_trained_model\\checkpoint-10400\n",
      "Configuration saved in ./t5_trained_model\\checkpoint-10400\\config.json\n",
      "Model weights saved in ./t5_trained_model\\checkpoint-10400\\pytorch_model.bin\n",
      "                                     \n",
      "  0%|          | 0/3 [23:08<?, ?it/s]                Saving model checkpoint to ./t5_trained_model\\checkpoint-10500\n",
      "Configuration saved in ./t5_trained_model\\checkpoint-10500\\config.json\n",
      "Model weights saved in ./t5_trained_model\\checkpoint-10500\\pytorch_model.bin\n"
     ]
    },
    {
     "name": "stdout",
     "output_type": "stream",
     "text": [
      "{'loss': 1.2287, 'learning_rate': 1.7295832554662682e-05, 'epoch': 1.96}\n"
     ]
    },
    {
     "name": "stderr",
     "output_type": "stream",
     "text": [
      "Saving model checkpoint to ./t5_trained_model\\checkpoint-10600\n",
      "Configuration saved in ./t5_trained_model\\checkpoint-10600\\config.json\n",
      "Model weights saved in ./t5_trained_model\\checkpoint-10600\\pytorch_model.bin\n",
      "Saving model checkpoint to ./t5_trained_model\\checkpoint-10700\n",
      "Configuration saved in ./t5_trained_model\\checkpoint-10700\\config.json\n",
      "Model weights saved in ./t5_trained_model\\checkpoint-10700\\pytorch_model.bin\n",
      "Saving model checkpoint to ./t5_trained_model\\checkpoint-10800\n",
      "Configuration saved in ./t5_trained_model\\checkpoint-10800\\config.json\n",
      "Model weights saved in ./t5_trained_model\\checkpoint-10800\\pytorch_model.bin\n",
      "Saving model checkpoint to ./t5_trained_model\\checkpoint-10900\n",
      "Configuration saved in ./t5_trained_model\\checkpoint-10900\\config.json\n",
      "Model weights saved in ./t5_trained_model\\checkpoint-10900\\pytorch_model.bin\n",
      "                                     \n",
      "  0%|          | 0/3 [23:45<?, ?it/s]                Saving model checkpoint to ./t5_trained_model\\checkpoint-11000\n",
      "Configuration saved in ./t5_trained_model\\checkpoint-11000\\config.json\n",
      "Model weights saved in ./t5_trained_model\\checkpoint-11000\\pytorch_model.bin\n"
     ]
    },
    {
     "name": "stdout",
     "output_type": "stream",
     "text": [
      "{'loss': 1.2406, 'learning_rate': 1.5738491247741857e-05, 'epoch': 2.06}\n"
     ]
    },
    {
     "name": "stderr",
     "output_type": "stream",
     "text": [
      "Saving model checkpoint to ./t5_trained_model\\checkpoint-11100\n",
      "Configuration saved in ./t5_trained_model\\checkpoint-11100\\config.json\n",
      "Model weights saved in ./t5_trained_model\\checkpoint-11100\\pytorch_model.bin\n",
      "Saving model checkpoint to ./t5_trained_model\\checkpoint-11200\n",
      "Configuration saved in ./t5_trained_model\\checkpoint-11200\\config.json\n",
      "Model weights saved in ./t5_trained_model\\checkpoint-11200\\pytorch_model.bin\n",
      "Saving model checkpoint to ./t5_trained_model\\checkpoint-11300\n",
      "Configuration saved in ./t5_trained_model\\checkpoint-11300\\config.json\n",
      "Model weights saved in ./t5_trained_model\\checkpoint-11300\\pytorch_model.bin\n",
      "Saving model checkpoint to ./t5_trained_model\\checkpoint-11400\n",
      "Configuration saved in ./t5_trained_model\\checkpoint-11400\\config.json\n",
      "Model weights saved in ./t5_trained_model\\checkpoint-11400\\pytorch_model.bin\n",
      "                                     \n",
      "  0%|          | 0/3 [24:21<?, ?it/s]                Saving model checkpoint to ./t5_trained_model\\checkpoint-11500\n",
      "Configuration saved in ./t5_trained_model\\checkpoint-11500\\config.json\n",
      "Model weights saved in ./t5_trained_model\\checkpoint-11500\\pytorch_model.bin\n"
     ]
    },
    {
     "name": "stdout",
     "output_type": "stream",
     "text": [
      "{'loss': 1.2312, 'learning_rate': 1.418114994082103e-05, 'epoch': 2.15}\n"
     ]
    },
    {
     "name": "stderr",
     "output_type": "stream",
     "text": [
      "Saving model checkpoint to ./t5_trained_model\\checkpoint-11600\n",
      "Configuration saved in ./t5_trained_model\\checkpoint-11600\\config.json\n",
      "Model weights saved in ./t5_trained_model\\checkpoint-11600\\pytorch_model.bin\n",
      "Saving model checkpoint to ./t5_trained_model\\checkpoint-11700\n",
      "Configuration saved in ./t5_trained_model\\checkpoint-11700\\config.json\n",
      "Model weights saved in ./t5_trained_model\\checkpoint-11700\\pytorch_model.bin\n",
      "Saving model checkpoint to ./t5_trained_model\\checkpoint-11800\n",
      "Configuration saved in ./t5_trained_model\\checkpoint-11800\\config.json\n",
      "Model weights saved in ./t5_trained_model\\checkpoint-11800\\pytorch_model.bin\n",
      "Saving model checkpoint to ./t5_trained_model\\checkpoint-11900\n",
      "Configuration saved in ./t5_trained_model\\checkpoint-11900\\config.json\n",
      "Model weights saved in ./t5_trained_model\\checkpoint-11900\\pytorch_model.bin\n",
      "                                     \n",
      "  0%|          | 0/3 [24:58<?, ?it/s]                Saving model checkpoint to ./t5_trained_model\\checkpoint-12000\n",
      "Configuration saved in ./t5_trained_model\\checkpoint-12000\\config.json\n",
      "Model weights saved in ./t5_trained_model\\checkpoint-12000\\pytorch_model.bin\n"
     ]
    },
    {
     "name": "stdout",
     "output_type": "stream",
     "text": [
      "{'loss': 1.2408, 'learning_rate': 1.2623808633900206e-05, 'epoch': 2.24}\n"
     ]
    },
    {
     "name": "stderr",
     "output_type": "stream",
     "text": [
      "Saving model checkpoint to ./t5_trained_model\\checkpoint-12100\n",
      "Configuration saved in ./t5_trained_model\\checkpoint-12100\\config.json\n",
      "Model weights saved in ./t5_trained_model\\checkpoint-12100\\pytorch_model.bin\n",
      "Saving model checkpoint to ./t5_trained_model\\checkpoint-12200\n",
      "Configuration saved in ./t5_trained_model\\checkpoint-12200\\config.json\n",
      "Model weights saved in ./t5_trained_model\\checkpoint-12200\\pytorch_model.bin\n",
      "Saving model checkpoint to ./t5_trained_model\\checkpoint-12300\n",
      "Configuration saved in ./t5_trained_model\\checkpoint-12300\\config.json\n",
      "Model weights saved in ./t5_trained_model\\checkpoint-12300\\pytorch_model.bin\n",
      "Saving model checkpoint to ./t5_trained_model\\checkpoint-12400\n",
      "Configuration saved in ./t5_trained_model\\checkpoint-12400\\config.json\n",
      "Model weights saved in ./t5_trained_model\\checkpoint-12400\\pytorch_model.bin\n",
      "                                     \n",
      "  0%|          | 0/3 [25:35<?, ?it/s]                Saving model checkpoint to ./t5_trained_model\\checkpoint-12500\n",
      "Configuration saved in ./t5_trained_model\\checkpoint-12500\\config.json\n"
     ]
    },
    {
     "name": "stdout",
     "output_type": "stream",
     "text": [
      "{'loss': 1.2336, 'learning_rate': 1.1066467326979381e-05, 'epoch': 2.34}\n"
     ]
    },
    {
     "name": "stderr",
     "output_type": "stream",
     "text": [
      "Model weights saved in ./t5_trained_model\\checkpoint-12500\\pytorch_model.bin\n",
      "Saving model checkpoint to ./t5_trained_model\\checkpoint-12600\n",
      "Configuration saved in ./t5_trained_model\\checkpoint-12600\\config.json\n",
      "Model weights saved in ./t5_trained_model\\checkpoint-12600\\pytorch_model.bin\n",
      "Saving model checkpoint to ./t5_trained_model\\checkpoint-12700\n",
      "Configuration saved in ./t5_trained_model\\checkpoint-12700\\config.json\n",
      "Model weights saved in ./t5_trained_model\\checkpoint-12700\\pytorch_model.bin\n",
      "Saving model checkpoint to ./t5_trained_model\\checkpoint-12800\n",
      "Configuration saved in ./t5_trained_model\\checkpoint-12800\\config.json\n",
      "Model weights saved in ./t5_trained_model\\checkpoint-12800\\pytorch_model.bin\n",
      "Saving model checkpoint to ./t5_trained_model\\checkpoint-12900\n",
      "Configuration saved in ./t5_trained_model\\checkpoint-12900\\config.json\n",
      "Model weights saved in ./t5_trained_model\\checkpoint-12900\\pytorch_model.bin\n",
      "                                     \n",
      "  0%|          | 0/3 [26:11<?, ?it/s]                Saving model checkpoint to ./t5_trained_model\\checkpoint-13000\n",
      "Configuration saved in ./t5_trained_model\\checkpoint-13000\\config.json\n"
     ]
    },
    {
     "name": "stdout",
     "output_type": "stream",
     "text": [
      "{'loss': 1.2343, 'learning_rate': 9.509126020058556e-06, 'epoch': 2.43}\n"
     ]
    },
    {
     "name": "stderr",
     "output_type": "stream",
     "text": [
      "Model weights saved in ./t5_trained_model\\checkpoint-13000\\pytorch_model.bin\n",
      "Saving model checkpoint to ./t5_trained_model\\checkpoint-13100\n",
      "Configuration saved in ./t5_trained_model\\checkpoint-13100\\config.json\n",
      "Model weights saved in ./t5_trained_model\\checkpoint-13100\\pytorch_model.bin\n",
      "Saving model checkpoint to ./t5_trained_model\\checkpoint-13200\n",
      "Configuration saved in ./t5_trained_model\\checkpoint-13200\\config.json\n",
      "Model weights saved in ./t5_trained_model\\checkpoint-13200\\pytorch_model.bin\n",
      "Saving model checkpoint to ./t5_trained_model\\checkpoint-13300\n",
      "Configuration saved in ./t5_trained_model\\checkpoint-13300\\config.json\n",
      "Model weights saved in ./t5_trained_model\\checkpoint-13300\\pytorch_model.bin\n",
      "Saving model checkpoint to ./t5_trained_model\\checkpoint-13400\n",
      "Configuration saved in ./t5_trained_model\\checkpoint-13400\\config.json\n",
      "Model weights saved in ./t5_trained_model\\checkpoint-13400\\pytorch_model.bin\n",
      "                                     \n",
      "  0%|          | 0/3 [26:48<?, ?it/s]                Saving model checkpoint to ./t5_trained_model\\checkpoint-13500\n",
      "Configuration saved in ./t5_trained_model\\checkpoint-13500\\config.json\n",
      "Model weights saved in ./t5_trained_model\\checkpoint-13500\\pytorch_model.bin\n"
     ]
    },
    {
     "name": "stdout",
     "output_type": "stream",
     "text": [
      "{'loss': 1.2297, 'learning_rate': 7.951784713137732e-06, 'epoch': 2.52}\n"
     ]
    },
    {
     "name": "stderr",
     "output_type": "stream",
     "text": [
      "Saving model checkpoint to ./t5_trained_model\\checkpoint-13600\n",
      "Configuration saved in ./t5_trained_model\\checkpoint-13600\\config.json\n",
      "Model weights saved in ./t5_trained_model\\checkpoint-13600\\pytorch_model.bin\n",
      "Saving model checkpoint to ./t5_trained_model\\checkpoint-13700\n",
      "Configuration saved in ./t5_trained_model\\checkpoint-13700\\config.json\n",
      "Model weights saved in ./t5_trained_model\\checkpoint-13700\\pytorch_model.bin\n",
      "Saving model checkpoint to ./t5_trained_model\\checkpoint-13800\n",
      "Configuration saved in ./t5_trained_model\\checkpoint-13800\\config.json\n",
      "Model weights saved in ./t5_trained_model\\checkpoint-13800\\pytorch_model.bin\n",
      "Saving model checkpoint to ./t5_trained_model\\checkpoint-13900\n",
      "Configuration saved in ./t5_trained_model\\checkpoint-13900\\config.json\n",
      "Model weights saved in ./t5_trained_model\\checkpoint-13900\\pytorch_model.bin\n",
      "                                     \n",
      "  0%|          | 0/3 [27:41<?, ?it/s]                Saving model checkpoint to ./t5_trained_model\\checkpoint-14000\n",
      "Configuration saved in ./t5_trained_model\\checkpoint-14000\\config.json\n"
     ]
    },
    {
     "name": "stdout",
     "output_type": "stream",
     "text": [
      "{'loss': 1.2142, 'learning_rate': 6.394443406216908e-06, 'epoch': 2.62}\n"
     ]
    },
    {
     "name": "stderr",
     "output_type": "stream",
     "text": [
      "Model weights saved in ./t5_trained_model\\checkpoint-14000\\pytorch_model.bin\n",
      "Saving model checkpoint to ./t5_trained_model\\checkpoint-14100\n",
      "Configuration saved in ./t5_trained_model\\checkpoint-14100\\config.json\n",
      "Model weights saved in ./t5_trained_model\\checkpoint-14100\\pytorch_model.bin\n",
      "Saving model checkpoint to ./t5_trained_model\\checkpoint-14200\n",
      "Configuration saved in ./t5_trained_model\\checkpoint-14200\\config.json\n",
      "Model weights saved in ./t5_trained_model\\checkpoint-14200\\pytorch_model.bin\n",
      "Saving model checkpoint to ./t5_trained_model\\checkpoint-14300\n",
      "Configuration saved in ./t5_trained_model\\checkpoint-14300\\config.json\n",
      "Model weights saved in ./t5_trained_model\\checkpoint-14300\\pytorch_model.bin\n",
      "Saving model checkpoint to ./t5_trained_model\\checkpoint-14400\n",
      "Configuration saved in ./t5_trained_model\\checkpoint-14400\\config.json\n",
      "Model weights saved in ./t5_trained_model\\checkpoint-14400\\pytorch_model.bin\n",
      "                                     \n",
      "  0%|          | 0/3 [28:34<?, ?it/s]                Saving model checkpoint to ./t5_trained_model\\checkpoint-14500\n",
      "Configuration saved in ./t5_trained_model\\checkpoint-14500\\config.json\n",
      "Model weights saved in ./t5_trained_model\\checkpoint-14500\\pytorch_model.bin\n"
     ]
    },
    {
     "name": "stdout",
     "output_type": "stream",
     "text": [
      "{'loss': 1.2205, 'learning_rate': 4.837102099296082e-06, 'epoch': 2.71}\n"
     ]
    },
    {
     "name": "stderr",
     "output_type": "stream",
     "text": [
      "Saving model checkpoint to ./t5_trained_model\\checkpoint-14600\n",
      "Configuration saved in ./t5_trained_model\\checkpoint-14600\\config.json\n",
      "Model weights saved in ./t5_trained_model\\checkpoint-14600\\pytorch_model.bin\n",
      "Saving model checkpoint to ./t5_trained_model\\checkpoint-14700\n",
      "Configuration saved in ./t5_trained_model\\checkpoint-14700\\config.json\n",
      "Model weights saved in ./t5_trained_model\\checkpoint-14700\\pytorch_model.bin\n",
      "Saving model checkpoint to ./t5_trained_model\\checkpoint-14800\n",
      "Configuration saved in ./t5_trained_model\\checkpoint-14800\\config.json\n",
      "Model weights saved in ./t5_trained_model\\checkpoint-14800\\pytorch_model.bin\n",
      "Saving model checkpoint to ./t5_trained_model\\checkpoint-14900\n",
      "Configuration saved in ./t5_trained_model\\checkpoint-14900\\config.json\n",
      "Model weights saved in ./t5_trained_model\\checkpoint-14900\\pytorch_model.bin\n",
      "                                     \n",
      "  0%|          | 0/3 [29:43<?, ?it/s]                Saving model checkpoint to ./t5_trained_model\\checkpoint-15000\n",
      "Configuration saved in ./t5_trained_model\\checkpoint-15000\\config.json\n"
     ]
    },
    {
     "name": "stdout",
     "output_type": "stream",
     "text": [
      "{'loss': 1.2195, 'learning_rate': 3.2797607923752568e-06, 'epoch': 2.8}\n"
     ]
    },
    {
     "name": "stderr",
     "output_type": "stream",
     "text": [
      "Model weights saved in ./t5_trained_model\\checkpoint-15000\\pytorch_model.bin\n",
      "Saving model checkpoint to ./t5_trained_model\\checkpoint-15100\n",
      "Configuration saved in ./t5_trained_model\\checkpoint-15100\\config.json\n",
      "Model weights saved in ./t5_trained_model\\checkpoint-15100\\pytorch_model.bin\n",
      "Saving model checkpoint to ./t5_trained_model\\checkpoint-15200\n",
      "Configuration saved in ./t5_trained_model\\checkpoint-15200\\config.json\n",
      "Model weights saved in ./t5_trained_model\\checkpoint-15200\\pytorch_model.bin\n",
      "Saving model checkpoint to ./t5_trained_model\\checkpoint-15300\n",
      "Configuration saved in ./t5_trained_model\\checkpoint-15300\\config.json\n",
      "Model weights saved in ./t5_trained_model\\checkpoint-15300\\pytorch_model.bin\n",
      "Saving model checkpoint to ./t5_trained_model\\checkpoint-15400\n",
      "Configuration saved in ./t5_trained_model\\checkpoint-15400\\config.json\n",
      "Model weights saved in ./t5_trained_model\\checkpoint-15400\\pytorch_model.bin\n",
      "                                     \n",
      "  0%|          | 0/3 [30:41<?, ?it/s]                Saving model checkpoint to ./t5_trained_model\\checkpoint-15500\n",
      "Configuration saved in ./t5_trained_model\\checkpoint-15500\\config.json\n"
     ]
    },
    {
     "name": "stdout",
     "output_type": "stream",
     "text": [
      "{'loss': 1.2184, 'learning_rate': 1.7224194854544324e-06, 'epoch': 2.9}\n"
     ]
    },
    {
     "name": "stderr",
     "output_type": "stream",
     "text": [
      "Model weights saved in ./t5_trained_model\\checkpoint-15500\\pytorch_model.bin\n",
      "Saving model checkpoint to ./t5_trained_model\\checkpoint-15600\n",
      "Configuration saved in ./t5_trained_model\\checkpoint-15600\\config.json\n",
      "Model weights saved in ./t5_trained_model\\checkpoint-15600\\pytorch_model.bin\n",
      "Saving model checkpoint to ./t5_trained_model\\checkpoint-15700\n",
      "Configuration saved in ./t5_trained_model\\checkpoint-15700\\config.json\n",
      "Model weights saved in ./t5_trained_model\\checkpoint-15700\\pytorch_model.bin\n",
      "Saving model checkpoint to ./t5_trained_model\\checkpoint-15800\n",
      "Configuration saved in ./t5_trained_model\\checkpoint-15800\\config.json\n",
      "Model weights saved in ./t5_trained_model\\checkpoint-15800\\pytorch_model.bin\n",
      "Saving model checkpoint to ./t5_trained_model\\checkpoint-15900\n",
      "Configuration saved in ./t5_trained_model\\checkpoint-15900\\config.json\n",
      "Model weights saved in ./t5_trained_model\\checkpoint-15900\\pytorch_model.bin\n",
      "                                     \n",
      "  0%|          | 0/3 [31:24<?, ?it/s]                Saving model checkpoint to ./t5_trained_model\\checkpoint-16000\n",
      "Configuration saved in ./t5_trained_model\\checkpoint-16000\\config.json\n",
      "Model weights saved in ./t5_trained_model\\checkpoint-16000\\pytorch_model.bin\n"
     ]
    },
    {
     "name": "stdout",
     "output_type": "stream",
     "text": [
      "{'loss': 1.2169, 'learning_rate': 1.6507817853360744e-07, 'epoch': 2.99}\n"
     ]
    },
    {
     "name": "stderr",
     "output_type": "stream",
     "text": [
      "\n",
      "\n",
      "Training completed. Do not forget to share your model on huggingface.co/models =)\n",
      "\n",
      "\n",
      "                                     \n",
      "100%|██████████| 16053/16053 [27:47<00:00,  9.63it/s]\n",
      "Configuration saved in trained_t5_model\\config.json\n"
     ]
    },
    {
     "name": "stdout",
     "output_type": "stream",
     "text": [
      "{'train_runtime': 1667.2976, 'train_samples_per_second': 38.507, 'train_steps_per_second': 9.628, 'train_loss': 1.2756916505484122, 'epoch': 3.0}\n"
     ]
    },
    {
     "name": "stderr",
     "output_type": "stream",
     "text": [
      "Model weights saved in trained_t5_model\\pytorch_model.bin\n"
     ]
    }
   ],
   "source": [
    "import torch\n",
    "import pandas as pd\n",
    "from torch.utils.data import Dataset\n",
    "from transformers import T5ForConditionalGeneration, T5Tokenizer, Trainer, TrainingArguments\n",
    "\n",
    "class CustomDataset(Dataset):\n",
    "    def __init__(self, tokenizer, data_file, max_input_length, max_target_length):\n",
    "        self.tokenizer = tokenizer\n",
    "        self.data = pd.read_csv(data_file)\n",
    "        self.max_input_length = max_input_length\n",
    "        self.max_target_length = max_target_length\n",
    "\n",
    "    def __len__(self):\n",
    "        return len(self.data)\n",
    "\n",
    "    def __getitem__(self, index):\n",
    "        input_text = self.data.iloc[index][\"text\"]\n",
    "        target_text = self.data.iloc[index][\"titles\"]\n",
    "\n",
    "        # Tokenize the input and target texts\n",
    "        inputs = self.tokenizer(input_text, padding=\"max_length\", truncation=True, max_length=self.max_input_length, return_tensors=\"pt\")\n",
    "        targets = self.tokenizer(target_text, padding=\"max_length\", truncation=True, max_length=self.max_target_length, return_tensors=\"pt\")\n",
    "\n",
    "        return {\n",
    "            \"input_ids\": inputs.input_ids[0],\n",
    "            \"attention_mask\": inputs.attention_mask[0],\n",
    "            \"labels\": targets.input_ids[0],\n",
    "        }\n",
    "\n",
    "# Vérifier si CUDA est disponible et utiliser le GPU si c'est le cas\n",
    "device = torch.device(\"cuda\" if torch.cuda.is_available() else \"cpu\")\n",
    "\n",
    "# Charger le tokenizer et le modèle T5 pré-entraîné sur le GPU\n",
    "tokenizer = T5Tokenizer.from_pretrained(\"t5-small\")\n",
    "model_t5 = T5ForConditionalGeneration.from_pretrained(\"t5-small\").to(device)\n",
    "\n",
    "# Créer l'ensemble de données d'entraînement\n",
    "train_dataset = CustomDataset(tokenizer, \"data/train.csv\", max_input_length=128, max_target_length=128)\n",
    "\n",
    "# Définir les arguments d'entraînement\n",
    "training_args = TrainingArguments(\n",
    "    output_dir=\"./t5_trained_model\",\n",
    "    num_train_epochs=3,  # Nombre d'époques d'entraînement\n",
    "    per_device_train_batch_size=4,  # Taille du batch par périphérique de calcul\n",
    "    save_steps=100,  # Fréquence de sauvegarde du modèle\n",
    "    logging_dir=\"./logs\",\n",
    ")\n",
    "\n",
    "# Définir le Trainer pour l'entraînement\n",
    "trainer = Trainer(\n",
    "    model=model_t5,\n",
    "    args=training_args,\n",
    "    train_dataset=train_dataset,\n",
    ")\n",
    "\n",
    "# Entraîner le modèle\n",
    "trainer.train()\n",
    "\n",
    "# Sauvegarder le modèle entraîné\n",
    "model_t5.save_pretrained(\"trained_t5_model\")"
   ]
  }
 ],
 "metadata": {
  "kernelspec": {
   "display_name": "Python 3",
   "language": "python",
   "name": "python3"
  },
  "language_info": {
   "codemirror_mode": {
    "name": "ipython",
    "version": 3
   },
   "file_extension": ".py",
   "mimetype": "text/x-python",
   "name": "python",
   "nbconvert_exporter": "python",
   "pygments_lexer": "ipython3",
   "version": "3.10.7"
  }
 },
 "nbformat": 4,
 "nbformat_minor": 2
}
